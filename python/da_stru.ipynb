{
 "cells": [
  {
   "cell_type": "markdown",
   "id": "d0b73970-862a-45f5-be67-5d65088eceaf",
   "metadata": {},
   "source": [
    " # ***Data structure***"
   ]
  },
  {
   "cell_type": "markdown",
   "id": "4b777b9a-7a3b-4982-adcb-7466ee7f2a3a",
   "metadata": {},
   "source": [
    "##  list "
   ]
  },
  {
   "cell_type": "code",
   "execution_count": null,
   "id": "14ab97cd-3d12-4402-b6f4-3b563a005af7",
   "metadata": {},
   "outputs": [],
   "source": [
    "x=[2,3,5,6,23,56,7,8]"
   ]
  },
  {
   "cell_type": "markdown",
   "id": "19614f36-9688-453f-9612-d06325349f1e",
   "metadata": {},
   "source": [
    "### to add an element"
   ]
  },
  {
   "cell_type": "code",
   "execution_count": null,
   "id": "d87a6612-4933-479d-871c-113c69949b05",
   "metadata": {},
   "outputs": [],
   "source": [
    "x.append(9)\n",
    "print(x)"
   ]
  },
  {
   "cell_type": "markdown",
   "id": "6323c229-cf80-4a53-8088-63aa458ae6c5",
   "metadata": {},
   "source": [
    "#### to insert another list"
   ]
  },
  {
   "cell_type": "code",
   "execution_count": null,
   "id": "60b60ea6-64b9-4c47-927a-130a82010448",
   "metadata": {},
   "outputs": [],
   "source": [
    "d=[10,12,15,13]\n",
    "x.extend(d)\n",
    "print(x)"
   ]
  },
  {
   "cell_type": "markdown",
   "id": "8e6487cd-c241-4f49-be70-312460992ca6",
   "metadata": {},
   "source": [
    "#### to insert an element particular place"
   ]
  },
  {
   "cell_type": "code",
   "execution_count": null,
   "id": "3afa9768-1f01-41aa-8c65-e107e2b7fad8",
   "metadata": {},
   "outputs": [],
   "source": [
    "x.insert(3,20)\n",
    "print(x)"
   ]
  },
  {
   "cell_type": "markdown",
   "id": "22fb7825-f07d-4e2f-a07e-05c83824425a",
   "metadata": {},
   "source": [
    "#### to remove an element"
   ]
  },
  {
   "cell_type": "code",
   "execution_count": null,
   "id": "2b167921-6325-4e1f-94e8-aa2d827534f5",
   "metadata": {},
   "outputs": [],
   "source": [
    "x.remove(20)\n",
    "print(x)"
   ]
  },
  {
   "cell_type": "markdown",
   "id": "7e3f9ffa-706b-4490-ab46-fc07369ebf4c",
   "metadata": {},
   "source": [
    "#### to remove last element"
   ]
  },
  {
   "cell_type": "code",
   "execution_count": null,
   "id": "0311792c-24de-46f7-bbfc-c3399de6c2ee",
   "metadata": {},
   "outputs": [],
   "source": [
    "x.pop()\n",
    "print(x)"
   ]
  },
  {
   "cell_type": "markdown",
   "id": "da5473cf-4c81-4257-95fd-fb2363bef4f3",
   "metadata": {},
   "source": [
    "#### to delete all element in a list"
   ]
  },
  {
   "cell_type": "code",
   "execution_count": null,
   "id": "729ddb4c-04f7-4132-a9b5-13c700f2d99f",
   "metadata": {},
   "outputs": [],
   "source": [
    "c=[1,2,3,4,5,6]\n",
    "c.clear()\n",
    "print(c)"
   ]
  },
  {
   "cell_type": "code",
   "execution_count": null,
   "id": "2d04d8b5-4937-434f-947b-2fdb50302618",
   "metadata": {},
   "outputs": [],
   "source": [
    "x.index(15)"
   ]
  },
  {
   "cell_type": "markdown",
   "id": "7974b6ab-b0b6-447d-a397-7888c0605fef",
   "metadata": {},
   "source": [
    "#### to arrange it"
   ]
  },
  {
   "cell_type": "code",
   "execution_count": null,
   "id": "5b4f188b-221f-4ffd-99de-38630314dce7",
   "metadata": {},
   "outputs": [],
   "source": [
    "x.sort()\n",
    "print(x)"
   ]
  },
  {
   "cell_type": "code",
   "execution_count": null,
   "id": "72ca3dfc-4dec-49fb-971e-51e4c013bdaf",
   "metadata": {},
   "outputs": [],
   "source": [
    "x.sort(reverse=True)\n",
    "print(x)"
   ]
  },
  {
   "cell_type": "markdown",
   "id": "fd1af358-f0c5-44eb-b838-795e35b31a40",
   "metadata": {},
   "source": [
    "#### to count the element"
   ]
  },
  {
   "cell_type": "code",
   "execution_count": null,
   "id": "25a44128-2fcc-470a-bf79-ad098e386395",
   "metadata": {
    "tags": []
   },
   "outputs": [],
   "source": [
    "x.append(9)\n",
    "print(x)"
   ]
  },
  {
   "cell_type": "code",
   "execution_count": null,
   "id": "6424fca0-3a5e-4d86-bf20-edd4120c7c78",
   "metadata": {},
   "outputs": [],
   "source": [
    "x.count(9)"
   ]
  },
  {
   "cell_type": "markdown",
   "id": "a48439a3-0861-4989-924a-d093ffce6da1",
   "metadata": {},
   "source": [
    "### to copy the list"
   ]
  },
  {
   "cell_type": "code",
   "execution_count": null,
   "id": "7aec4c65-87df-45fd-9005-e435f84c8029",
   "metadata": {},
   "outputs": [],
   "source": [
    "f=x.copy()\n",
    "print(f)"
   ]
  },
  {
   "cell_type": "markdown",
   "id": "c51838b9-a5dd-454f-828f-4ec6b7b7f53b",
   "metadata": {},
   "source": [
    "#### delete an element"
   ]
  },
  {
   "cell_type": "code",
   "execution_count": null,
   "id": "901bf401-a768-48d8-95a9-eabc200ca829",
   "metadata": {},
   "outputs": [],
   "source": [
    "del f[5]\n",
    "print(f)"
   ]
  },
  {
   "cell_type": "code",
   "execution_count": null,
   "id": "1b72ffad-4363-4517-a6cc-6fdd2e40bc5c",
   "metadata": {},
   "outputs": [],
   "source": [
    "del f[2:4]\n",
    "print(f)"
   ]
  },
  {
   "cell_type": "code",
   "execution_count": null,
   "id": "f60ce662-4649-4f29-96ff-63261b0ffa93",
   "metadata": {},
   "outputs": [],
   "source": [
    "del f[:]\n",
    "print(f)"
   ]
  },
  {
   "cell_type": "code",
   "execution_count": null,
   "id": "0b1b82e2-03aa-4e60-b7ac-751af25981bd",
   "metadata": {},
   "outputs": [],
   "source": [
    "x.clear()\n",
    "print(x)"
   ]
  },
  {
   "cell_type": "markdown",
   "id": "013df64e-8f1f-4c00-82e8-6df75e59de19",
   "metadata": {},
   "source": [
    "## tuples"
   ]
  },
  {
   "cell_type": "code",
   "execution_count": null,
   "id": "b2a53bbb-ffd2-4725-871a-eabe14a5b720",
   "metadata": {},
   "outputs": [],
   "source": [
    "j=(1,2,3,4,8,9,5)\n",
    "print(type(j))"
   ]
  },
  {
   "cell_type": "markdown",
   "id": "a024e8b7-19ff-41c2-a209-4084289a1ca2",
   "metadata": {},
   "source": [
    "### to get a value at place"
   ]
  },
  {
   "cell_type": "code",
   "execution_count": null,
   "id": "5d9e46c5-69e8-44c0-b511-c0fc6d8552fb",
   "metadata": {},
   "outputs": [],
   "source": [
    "print( j[4])"
   ]
  },
  {
   "cell_type": "markdown",
   "id": "838c80ae-ef48-4364-8c10-b7cb31aefb72",
   "metadata": {},
   "source": [
    "### convert tuple to list"
   ]
  },
  {
   "cell_type": "code",
   "execution_count": null,
   "id": "fba7dc14-18d4-4f2f-a79c-27cf54f48e94",
   "metadata": {
    "jupyter": {
     "source_hidden": true
    },
    "tags": []
   },
   "outputs": [],
   "source": [
    "e=list(j)\n",
    "print(type(e))\n",
    "print(e)"
   ]
  },
  {
   "cell_type": "markdown",
   "id": "b1bcf28a-8f88-4684-8efb-9977dc3d4bc2",
   "metadata": {},
   "source": [
    "#### convert list to tuple"
   ]
  },
  {
   "cell_type": "code",
   "execution_count": null,
   "id": "efe42e8f-b28b-41e8-b104-f49554782e87",
   "metadata": {},
   "outputs": [],
   "source": [
    "h=tuple(e)\n",
    "print(type(h))\n",
    "print(h)"
   ]
  },
  {
   "cell_type": "markdown",
   "id": "9dbafe0b-1aea-4177-bb1d-65b4275227f1",
   "metadata": {},
   "source": [
    "## set"
   ]
  },
  {
   "cell_type": "code",
   "execution_count": null,
   "id": "2e3bdc17-8268-4c00-b2bd-ce9c9bde1c2f",
   "metadata": {},
   "outputs": [],
   "source": [
    "t={1,2,3,6,4}\n",
    "print( type(t))"
   ]
  },
  {
   "cell_type": "code",
   "execution_count": null,
   "id": "dc16f737-6186-478b-826b-d43cd9353f1e",
   "metadata": {},
   "outputs": [],
   "source": [
    "a=set('mathes')\n",
    "b=set('hari')\n",
    "print(a)# print the unique letters\n",
    "print(b)"
   ]
  },
  {
   "cell_type": "markdown",
   "id": "3e0d1dbb-302e-4a8d-9121-990cc30192cd",
   "metadata": {},
   "source": [
    "#### letters in a not in b"
   ]
  },
  {
   "cell_type": "code",
   "execution_count": null,
   "id": "8233887c-0499-49bf-81b1-3a2b34bda857",
   "metadata": {},
   "outputs": [],
   "source": [
    "a-b"
   ]
  },
  {
   "cell_type": "markdown",
   "id": "4108e692-cac4-4691-bab5-d33f9fe1a6d7",
   "metadata": {},
   "source": [
    "#### letters in b not in a"
   ]
  },
  {
   "cell_type": "code",
   "execution_count": null,
   "id": "f1be4e54-ab81-460f-92bb-655d75aeb661",
   "metadata": {},
   "outputs": [],
   "source": [
    "b-a"
   ]
  },
  {
   "cell_type": "markdown",
   "id": "567853d1-130d-4221-873f-b4bda0991115",
   "metadata": {},
   "source": [
    "#### letters in a or b or both"
   ]
  },
  {
   "cell_type": "code",
   "execution_count": null,
   "id": "8ca9fee2-a713-43f7-9585-cbc54f1d8893",
   "metadata": {},
   "outputs": [],
   "source": [
    "a|b"
   ]
  },
  {
   "cell_type": "markdown",
   "id": "84fe9f05-d593-4098-9449-25a515abc74c",
   "metadata": {},
   "source": [
    "#### common letters in a & b"
   ]
  },
  {
   "cell_type": "code",
   "execution_count": null,
   "id": "33d98531-9b69-4329-8dde-8578ad66f781",
   "metadata": {},
   "outputs": [],
   "source": [
    "a&b"
   ]
  },
  {
   "cell_type": "markdown",
   "id": "23b11135-3f07-4af0-9517-782c53b9d2cd",
   "metadata": {},
   "source": [
    "#### uncommon letters"
   ]
  },
  {
   "cell_type": "code",
   "execution_count": null,
   "id": "9594d3d8-3320-4318-b68b-6100ee4bc7ab",
   "metadata": {},
   "outputs": [],
   "source": [
    "a^b"
   ]
  },
  {
   "cell_type": "markdown",
   "id": "2601a3f1-204b-430a-94fc-ba6d4dd824ab",
   "metadata": {},
   "source": [
    "## dictionaries"
   ]
  },
  {
   "cell_type": "code",
   "execution_count": null,
   "id": "75886bec-c559-4614-aa40-c4bda711ab0f",
   "metadata": {},
   "outputs": [],
   "source": [
    "u={\"first\":1}\n",
    "print(type(u))"
   ]
  },
  {
   "cell_type": "code",
   "execution_count": null,
   "id": "19818ad5-36a0-4337-898f-418e2757186e",
   "metadata": {},
   "outputs": [],
   "source": [
    "i={\"subbu\":95,\"mathesh\":45,\"nithish\":89,\"nishanth\":50}"
   ]
  },
  {
   "cell_type": "code",
   "execution_count": null,
   "id": "af07a009-4475-48e1-b42c-3442e347498f",
   "metadata": {},
   "outputs": [],
   "source": [
    "i[\"subbu\"]"
   ]
  },
  {
   "cell_type": "code",
   "execution_count": null,
   "id": "e896046a-3f30-4632-8bbb-84bebf287283",
   "metadata": {},
   "outputs": [],
   "source": [
    "i[\"nithish\"]"
   ]
  },
  {
   "cell_type": "code",
   "execution_count": null,
   "id": "eefa5d91-04f2-4377-b6b0-baeef41b7329",
   "metadata": {},
   "outputs": [],
   "source": [
    "i[\"nishanth\"]"
   ]
  },
  {
   "cell_type": "code",
   "execution_count": null,
   "id": "6094c893-80b0-492b-84fe-85ea4d7efae8",
   "metadata": {},
   "outputs": [],
   "source": [
    "w={\"subbu\":[12,15,14,65],\"mathesh\":[15,17,19,65],\"nithish\":[13,15,15,64],}"
   ]
  },
  {
   "cell_type": "code",
   "execution_count": null,
   "id": "9b9503c1-11b8-4895-ae12-5361d35d9f19",
   "metadata": {},
   "outputs": [],
   "source": [
    "w[\"subbu\"]"
   ]
  },
  {
   "cell_type": "code",
   "execution_count": null,
   "id": "e821032e-0a2a-466d-b50f-17b284b1367a",
   "metadata": {},
   "outputs": [],
   "source": [
    "w[\"nithish\"]"
   ]
  },
  {
   "cell_type": "code",
   "execution_count": null,
   "id": "9a864d79-a3c7-4a6e-969f-620e037b372c",
   "metadata": {},
   "outputs": [],
   "source": [
    "w[\"mathesh\"]"
   ]
  },
  {
   "cell_type": "code",
   "execution_count": null,
   "id": "695cc2f5-c67a-47f8-8fdb-e7a13ac08620",
   "metadata": {},
   "outputs": [],
   "source": []
  },
  {
   "cell_type": "code",
   "execution_count": null,
   "id": "097cd6c1-aaae-4920-b39e-1ae07f7324fe",
   "metadata": {},
   "outputs": [],
   "source": []
  }
 ],
 "metadata": {
  "kernelspec": {
   "display_name": "Python 3 (ipykernel)",
   "language": "python",
   "name": "python3"
  },
  "language_info": {
   "codemirror_mode": {
    "name": "ipython",
    "version": 3
   },
   "file_extension": ".py",
   "mimetype": "text/x-python",
   "name": "python",
   "nbconvert_exporter": "python",
   "pygments_lexer": "ipython3",
   "version": "3.8.10"
  }
 },
 "nbformat": 4,
 "nbformat_minor": 5
}
