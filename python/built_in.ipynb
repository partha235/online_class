{
 "cells": [
  {
   "cell_type": "markdown",
   "id": "46595d0b-eda7-4739-a64b-acceee2377a2",
   "metadata": {},
   "source": [
    "# python built-in function"
   ]
  },
  {
   "cell_type": "code",
   "execution_count": 1,
   "id": "9d6b7991-9875-40b7-b455-e79ffb56b2ba",
   "metadata": {},
   "outputs": [],
   "source": [
    "a=10.5"
   ]
  },
  {
   "cell_type": "markdown",
   "id": "84a8e91f-f588-4ad4-8ed0-bd795f0def49",
   "metadata": {
    "tags": []
   },
   "source": [
    "### to find the type of an object"
   ]
  },
  {
   "cell_type": "code",
   "execution_count": 2,
   "id": "c58a13d6-bb12-4812-ae78-f4018853f0f5",
   "metadata": {},
   "outputs": [
    {
     "name": "stdout",
     "output_type": "stream",
     "text": [
      "<class 'float'>\n",
      "<class 'str'>\n"
     ]
    }
   ],
   "source": [
    "print(type(a))\n",
    "print(type(\"saga\"))"
   ]
  },
  {
   "cell_type": "markdown",
   "id": "ffa2cf95-f346-428a-8319-81f92aeaaea5",
   "metadata": {},
   "source": [
    "### to find the length of the string"
   ]
  },
  {
   "cell_type": "code",
   "execution_count": 3,
   "id": "2bb687f9-95f3-4498-ad02-b01e3b6ba46a",
   "metadata": {},
   "outputs": [
    {
     "data": {
      "text/plain": [
       "7"
      ]
     },
     "execution_count": 3,
     "metadata": {},
     "output_type": "execute_result"
    }
   ],
   "source": [
    "x=\"saga235\"\n",
    "len(x)"
   ]
  },
  {
   "cell_type": "markdown",
   "id": "4c8e0e58-6d2f-48c6-b8ec-83bff934bd4a",
   "metadata": {},
   "source": [
    "### to find the directory of object "
   ]
  },
  {
   "cell_type": "code",
   "execution_count": 4,
   "id": "b82bf712-933b-4473-bb81-cd1a92e4fd09",
   "metadata": {
    "tags": []
   },
   "outputs": [
    {
     "data": {
      "text/plain": [
       "['__add__',\n",
       " '__class__',\n",
       " '__contains__',\n",
       " '__delattr__',\n",
       " '__dir__',\n",
       " '__doc__',\n",
       " '__eq__',\n",
       " '__format__',\n",
       " '__ge__',\n",
       " '__getattribute__',\n",
       " '__getitem__',\n",
       " '__getnewargs__',\n",
       " '__gt__',\n",
       " '__hash__',\n",
       " '__init__',\n",
       " '__init_subclass__',\n",
       " '__iter__',\n",
       " '__le__',\n",
       " '__len__',\n",
       " '__lt__',\n",
       " '__mod__',\n",
       " '__mul__',\n",
       " '__ne__',\n",
       " '__new__',\n",
       " '__reduce__',\n",
       " '__reduce_ex__',\n",
       " '__repr__',\n",
       " '__rmod__',\n",
       " '__rmul__',\n",
       " '__setattr__',\n",
       " '__sizeof__',\n",
       " '__str__',\n",
       " '__subclasshook__',\n",
       " 'capitalize',\n",
       " 'casefold',\n",
       " 'center',\n",
       " 'count',\n",
       " 'encode',\n",
       " 'endswith',\n",
       " 'expandtabs',\n",
       " 'find',\n",
       " 'format',\n",
       " 'format_map',\n",
       " 'index',\n",
       " 'isalnum',\n",
       " 'isalpha',\n",
       " 'isascii',\n",
       " 'isdecimal',\n",
       " 'isdigit',\n",
       " 'isidentifier',\n",
       " 'islower',\n",
       " 'isnumeric',\n",
       " 'isprintable',\n",
       " 'isspace',\n",
       " 'istitle',\n",
       " 'isupper',\n",
       " 'join',\n",
       " 'ljust',\n",
       " 'lower',\n",
       " 'lstrip',\n",
       " 'maketrans',\n",
       " 'partition',\n",
       " 'replace',\n",
       " 'rfind',\n",
       " 'rindex',\n",
       " 'rjust',\n",
       " 'rpartition',\n",
       " 'rsplit',\n",
       " 'rstrip',\n",
       " 'split',\n",
       " 'splitlines',\n",
       " 'startswith',\n",
       " 'strip',\n",
       " 'swapcase',\n",
       " 'title',\n",
       " 'translate',\n",
       " 'upper',\n",
       " 'zfill']"
      ]
     },
     "execution_count": 4,
     "metadata": {},
     "output_type": "execute_result"
    }
   ],
   "source": [
    "dir(x)"
   ]
  },
  {
   "cell_type": "markdown",
   "id": "063a9ab5-e250-4f42-b582-350be3c844a6",
   "metadata": {},
   "source": [
    "### to get __dict__ atribute of an object"
   ]
  },
  {
   "cell_type": "code",
   "execution_count": 5,
   "id": "df1614fe-5001-40d7-acde-1ea2509ef4ef",
   "metadata": {
    "collapsed": true,
    "jupyter": {
     "outputs_hidden": true
    },
    "tags": []
   },
   "outputs": [
    {
     "name": "stdout",
     "output_type": "stream",
     "text": [
      "{'__name__': 'random', '__doc__': 'Random variable generators.\\n\\n    integers\\n    --------\\n           uniform within range\\n\\n    sequences\\n    ---------\\n           pick random element\\n           pick random sample\\n           pick weighted random sample\\n           generate random permutation\\n\\n    distributions on the real line:\\n    ------------------------------\\n           uniform\\n           triangular\\n           normal (Gaussian)\\n           lognormal\\n           negative exponential\\n           gamma\\n           beta\\n           pareto\\n           Weibull\\n\\n    distributions on the circle (angles 0 to 2pi)\\n    ---------------------------------------------\\n           circular uniform\\n           von Mises\\n\\nGeneral notes on the underlying Mersenne Twister core generator:\\n\\n* The period is 2**19937-1.\\n* It is one of the most extensively tested generators in existence.\\n* The random() method is implemented in C, executes in a single Python step,\\n  and is, therefore, threadsafe.\\n\\n', '__package__': '', '__loader__': <_frozen_importlib_external.SourceFileLoader object at 0x0000000002CD7FD0>, '__spec__': ModuleSpec(name='random', loader=<_frozen_importlib_external.SourceFileLoader object at 0x0000000002CD7FD0>, origin='c:\\\\program files\\\\python38\\\\lib\\\\random.py'), '__file__': 'c:\\\\program files\\\\python38\\\\lib\\\\random.py', '__cached__': 'c:\\\\program files\\\\python38\\\\lib\\\\__pycache__\\\\random.cpython-38.pyc', '__builtins__': {'__name__': 'builtins', '__doc__': \"Built-in functions, exceptions, and other objects.\\n\\nNoteworthy: None is the `nil' object; Ellipsis represents `...' in slices.\", '__package__': '', '__loader__': <class '_frozen_importlib.BuiltinImporter'>, '__spec__': ModuleSpec(name='builtins', loader=<class '_frozen_importlib.BuiltinImporter'>), '__build_class__': <built-in function __build_class__>, '__import__': <built-in function __import__>, 'abs': <built-in function abs>, 'all': <built-in function all>, 'any': <built-in function any>, 'ascii': <built-in function ascii>, 'bin': <built-in function bin>, 'breakpoint': <built-in function breakpoint>, 'callable': <built-in function callable>, 'chr': <built-in function chr>, 'compile': <built-in function compile>, 'delattr': <built-in function delattr>, 'dir': <built-in function dir>, 'divmod': <built-in function divmod>, 'eval': <built-in function eval>, 'exec': <built-in function exec>, 'format': <built-in function format>, 'getattr': <built-in function getattr>, 'globals': <built-in function globals>, 'hasattr': <built-in function hasattr>, 'hash': <built-in function hash>, 'hex': <built-in function hex>, 'id': <built-in function id>, 'input': <bound method Kernel.raw_input of <ipykernel.ipkernel.IPythonKernel object at 0x000000000553C400>>, 'isinstance': <built-in function isinstance>, 'issubclass': <built-in function issubclass>, 'iter': <built-in function iter>, 'len': <built-in function len>, 'locals': <built-in function locals>, 'max': <built-in function max>, 'min': <built-in function min>, 'next': <built-in function next>, 'oct': <built-in function oct>, 'ord': <built-in function ord>, 'pow': <built-in function pow>, 'print': <built-in function print>, 'repr': <built-in function repr>, 'round': <built-in function round>, 'setattr': <built-in function setattr>, 'sorted': <built-in function sorted>, 'sum': <built-in function sum>, 'vars': <built-in function vars>, 'None': None, 'Ellipsis': Ellipsis, 'NotImplemented': NotImplemented, 'False': False, 'True': True, 'bool': <class 'bool'>, 'memoryview': <class 'memoryview'>, 'bytearray': <class 'bytearray'>, 'bytes': <class 'bytes'>, 'classmethod': <class 'classmethod'>, 'complex': <class 'complex'>, 'dict': <class 'dict'>, 'enumerate': <class 'enumerate'>, 'filter': <class 'filter'>, 'float': <class 'float'>, 'frozenset': <class 'frozenset'>, 'property': <class 'property'>, 'int': <class 'int'>, 'list': <class 'list'>, 'map': <class 'map'>, 'object': <class 'object'>, 'range': <class 'range'>, 'reversed': <class 'reversed'>, 'set': <class 'set'>, 'slice': <class 'slice'>, 'staticmethod': <class 'staticmethod'>, 'str': <class 'str'>, 'super': <class 'super'>, 'tuple': <class 'tuple'>, 'type': <class 'type'>, 'zip': <class 'zip'>, '__debug__': True, 'BaseException': <class 'BaseException'>, 'Exception': <class 'Exception'>, 'TypeError': <class 'TypeError'>, 'StopAsyncIteration': <class 'StopAsyncIteration'>, 'StopIteration': <class 'StopIteration'>, 'GeneratorExit': <class 'GeneratorExit'>, 'SystemExit': <class 'SystemExit'>, 'KeyboardInterrupt': <class 'KeyboardInterrupt'>, 'ImportError': <class 'ImportError'>, 'ModuleNotFoundError': <class 'ModuleNotFoundError'>, 'OSError': <class 'OSError'>, 'EnvironmentError': <class 'OSError'>, 'IOError': <class 'OSError'>, 'WindowsError': <class 'OSError'>, 'EOFError': <class 'EOFError'>, 'RuntimeError': <class 'RuntimeError'>, 'RecursionError': <class 'RecursionError'>, 'NotImplementedError': <class 'NotImplementedError'>, 'NameError': <class 'NameError'>, 'UnboundLocalError': <class 'UnboundLocalError'>, 'AttributeError': <class 'AttributeError'>, 'SyntaxError': <class 'SyntaxError'>, 'IndentationError': <class 'IndentationError'>, 'TabError': <class 'TabError'>, 'LookupError': <class 'LookupError'>, 'IndexError': <class 'IndexError'>, 'KeyError': <class 'KeyError'>, 'ValueError': <class 'ValueError'>, 'UnicodeError': <class 'UnicodeError'>, 'UnicodeEncodeError': <class 'UnicodeEncodeError'>, 'UnicodeDecodeError': <class 'UnicodeDecodeError'>, 'UnicodeTranslateError': <class 'UnicodeTranslateError'>, 'AssertionError': <class 'AssertionError'>, 'ArithmeticError': <class 'ArithmeticError'>, 'FloatingPointError': <class 'FloatingPointError'>, 'OverflowError': <class 'OverflowError'>, 'ZeroDivisionError': <class 'ZeroDivisionError'>, 'SystemError': <class 'SystemError'>, 'ReferenceError': <class 'ReferenceError'>, 'MemoryError': <class 'MemoryError'>, 'BufferError': <class 'BufferError'>, 'Warning': <class 'Warning'>, 'UserWarning': <class 'UserWarning'>, 'DeprecationWarning': <class 'DeprecationWarning'>, 'PendingDeprecationWarning': <class 'PendingDeprecationWarning'>, 'SyntaxWarning': <class 'SyntaxWarning'>, 'RuntimeWarning': <class 'RuntimeWarning'>, 'FutureWarning': <class 'FutureWarning'>, 'ImportWarning': <class 'ImportWarning'>, 'UnicodeWarning': <class 'UnicodeWarning'>, 'BytesWarning': <class 'BytesWarning'>, 'ResourceWarning': <class 'ResourceWarning'>, 'ConnectionError': <class 'ConnectionError'>, 'BlockingIOError': <class 'BlockingIOError'>, 'BrokenPipeError': <class 'BrokenPipeError'>, 'ChildProcessError': <class 'ChildProcessError'>, 'ConnectionAbortedError': <class 'ConnectionAbortedError'>, 'ConnectionRefusedError': <class 'ConnectionRefusedError'>, 'ConnectionResetError': <class 'ConnectionResetError'>, 'FileExistsError': <class 'FileExistsError'>, 'FileNotFoundError': <class 'FileNotFoundError'>, 'IsADirectoryError': <class 'IsADirectoryError'>, 'NotADirectoryError': <class 'NotADirectoryError'>, 'InterruptedError': <class 'InterruptedError'>, 'PermissionError': <class 'PermissionError'>, 'ProcessLookupError': <class 'ProcessLookupError'>, 'TimeoutError': <class 'TimeoutError'>, 'open': <built-in function open>, 'copyright': Copyright (c) 2001-2021 Python Software Foundation.\n",
      "All Rights Reserved.\n",
      "\n",
      "Copyright (c) 2000 BeOpen.com.\n",
      "All Rights Reserved.\n",
      "\n",
      "Copyright (c) 1995-2001 Corporation for National Research Initiatives.\n",
      "All Rights Reserved.\n",
      "\n",
      "Copyright (c) 1991-1995 Stichting Mathematisch Centrum, Amsterdam.\n",
      "All Rights Reserved., 'credits':     Thanks to CWI, CNRI, BeOpen.com, Zope Corporation and a cast of thousands\n",
      "    for supporting Python development.  See www.python.org for more information., 'license': Type license() to see the full license text, 'help': Type help() for interactive help, or help(object) for help about object., 'execfile': <function execfile at 0x00000000051FE700>, 'runfile': <function runfile at 0x00000000052BC5E0>, '__IPYTHON__': True, 'display': <function display at 0x000000000389C4C0>, 'get_ipython': <bound method InteractiveShell.get_ipython of <ipykernel.zmqshell.ZMQInteractiveShell object at 0x000000000553C460>>}, '_warn': <built-in function warn>, '_log': <built-in function log>, '_exp': <built-in function exp>, '_pi': 3.141592653589793, '_e': 2.718281828459045, '_ceil': <built-in function ceil>, '_sqrt': <built-in function sqrt>, '_acos': <built-in function acos>, '_cos': <built-in function cos>, '_sin': <built-in function sin>, '_urandom': <built-in function urandom>, '_Set': <class 'collections.abc.Set'>, '_Sequence': <class 'collections.abc.Sequence'>, '_accumulate': <class 'itertools.accumulate'>, '_repeat': <class 'itertools.repeat'>, '_bisect': <built-in function bisect_right>, '_os': <module 'os' from 'c:\\\\program files\\\\python38\\\\lib\\\\os.py'>, '_sha512': <built-in function sha512>, '__all__': ['Random', 'seed', 'random', 'uniform', 'randint', 'choice', 'sample', 'randrange', 'shuffle', 'normalvariate', 'lognormvariate', 'expovariate', 'vonmisesvariate', 'gammavariate', 'triangular', 'gauss', 'betavariate', 'paretovariate', 'weibullvariate', 'getstate', 'setstate', 'getrandbits', 'choices', 'SystemRandom'], 'NV_MAGICCONST': 1.7155277699214135, 'TWOPI': 6.283185307179586, 'LOG4': 1.3862943611198906, 'SG_MAGICCONST': 2.504077396776274, 'BPF': 53, 'RECIP_BPF': 1.1102230246251565e-16, '_random': <module '_random' (built-in)>, 'Random': <class 'random.Random'>, 'SystemRandom': <class 'random.SystemRandom'>, '_test_generator': <function _test_generator at 0x0000000002D415E0>, '_test': <function _test at 0x0000000002D4C820>, '_inst': <random.Random object at 0x00000000029DB1F0>, 'seed': <bound method Random.seed of <random.Random object at 0x00000000029DB1F0>>, 'random': <built-in method random of Random object at 0x00000000029DB1F0>, 'uniform': <bound method Random.uniform of <random.Random object at 0x00000000029DB1F0>>, 'triangular': <bound method Random.triangular of <random.Random object at 0x00000000029DB1F0>>, 'randint': <bound method Random.randint of <random.Random object at 0x00000000029DB1F0>>, 'choice': <bound method Random.choice of <random.Random object at 0x00000000029DB1F0>>, 'randrange': <bound method Random.randrange of <random.Random object at 0x00000000029DB1F0>>, 'sample': <bound method Random.sample of <random.Random object at 0x00000000029DB1F0>>, 'shuffle': <bound method Random.shuffle of <random.Random object at 0x00000000029DB1F0>>, 'choices': <bound method Random.choices of <random.Random object at 0x00000000029DB1F0>>, 'normalvariate': <bound method Random.normalvariate of <random.Random object at 0x00000000029DB1F0>>, 'lognormvariate': <bound method Random.lognormvariate of <random.Random object at 0x00000000029DB1F0>>, 'expovariate': <bound method Random.expovariate of <random.Random object at 0x00000000029DB1F0>>, 'vonmisesvariate': <bound method Random.vonmisesvariate of <random.Random object at 0x00000000029DB1F0>>, 'gammavariate': <bound method Random.gammavariate of <random.Random object at 0x00000000029DB1F0>>, 'gauss': <bound method Random.gauss of <random.Random object at 0x00000000029DB1F0>>, 'betavariate': <bound method Random.betavariate of <random.Random object at 0x00000000029DB1F0>>, 'paretovariate': <bound method Random.paretovariate of <random.Random object at 0x00000000029DB1F0>>, 'weibullvariate': <bound method Random.weibullvariate of <random.Random object at 0x00000000029DB1F0>>, 'getstate': <bound method Random.getstate of <random.Random object at 0x00000000029DB1F0>>, 'setstate': <bound method Random.setstate of <random.Random object at 0x00000000029DB1F0>>, 'getrandbits': <built-in method getrandbits of Random object at 0x00000000029DB1F0>}\n"
     ]
    }
   ],
   "source": [
    "import random\n",
    "print(vars(random))"
   ]
  },
  {
   "cell_type": "markdown",
   "id": "d710070f-211a-4a1b-ac3d-d1c9dbb276ad",
   "metadata": {},
   "source": [
    "### to get absolute value"
   ]
  },
  {
   "cell_type": "code",
   "execution_count": 6,
   "id": "29553101-d8ca-4905-af54-2db07f974638",
   "metadata": {},
   "outputs": [
    {
     "name": "stdout",
     "output_type": "stream",
     "text": [
      "7\n"
     ]
    }
   ],
   "source": [
    "d=-7\n",
    "print(abs(d))"
   ]
  },
  {
   "cell_type": "markdown",
   "id": "8111466e-daa2-497a-bc71-e4836bb62466",
   "metadata": {},
   "source": [
    "### to get bool value"
   ]
  },
  {
   "cell_type": "code",
   "execution_count": 7,
   "id": "5bd35473-0863-4027-b98c-29792e98f14c",
   "metadata": {},
   "outputs": [],
   "source": [
    "a=10\n",
    "b=10"
   ]
  },
  {
   "cell_type": "code",
   "execution_count": 8,
   "id": "8d7a1538-9339-4304-bfab-c23be07aa656",
   "metadata": {},
   "outputs": [
    {
     "data": {
      "text/plain": [
       "False"
      ]
     },
     "execution_count": 8,
     "metadata": {},
     "output_type": "execute_result"
    }
   ],
   "source": [
    "a!=b"
   ]
  },
  {
   "cell_type": "markdown",
   "id": "f4eae579-adf2-42e1-b30c-4fe2df9ee3d2",
   "metadata": {
    "tags": []
   },
   "source": [
    "### to find the case of the given string"
   ]
  },
  {
   "cell_type": "code",
   "execution_count": 9,
   "id": "10763a54-6159-4f8a-9a17-57e91f091bbd",
   "metadata": {},
   "outputs": [
    {
     "data": {
      "text/plain": [
       "'SAGA235'"
      ]
     },
     "execution_count": 9,
     "metadata": {},
     "output_type": "execute_result"
    }
   ],
   "source": [
    "x.upper()"
   ]
  },
  {
   "cell_type": "code",
   "execution_count": 10,
   "id": "f9275f19-2395-4009-839d-4bcb273df8b8",
   "metadata": {},
   "outputs": [
    {
     "data": {
      "text/plain": [
       "'saga235'"
      ]
     },
     "execution_count": 10,
     "metadata": {},
     "output_type": "execute_result"
    }
   ],
   "source": [
    "x.lower()"
   ]
  },
  {
   "cell_type": "code",
   "execution_count": 11,
   "id": "161f74a8-245e-40f2-b3d2-07764c31b18c",
   "metadata": {},
   "outputs": [
    {
     "data": {
      "text/plain": [
       "True"
      ]
     },
     "execution_count": 11,
     "metadata": {},
     "output_type": "execute_result"
    }
   ],
   "source": [
    "x.islower()"
   ]
  },
  {
   "cell_type": "code",
   "execution_count": 12,
   "id": "88584b3e-bde9-4b80-b18d-09b901f166e4",
   "metadata": {},
   "outputs": [
    {
     "data": {
      "text/plain": [
       "False"
      ]
     },
     "execution_count": 12,
     "metadata": {},
     "output_type": "execute_result"
    }
   ],
   "source": [
    "x.isupper()"
   ]
  },
  {
   "cell_type": "markdown",
   "id": "3b7a3ea6-3415-43e2-b5a4-d8d235d2d81f",
   "metadata": {},
   "source": [
    "declaring list"
   ]
  },
  {
   "cell_type": "code",
   "execution_count": 13,
   "id": "eba3c04f-4cce-45d2-ae87-694298b680b6",
   "metadata": {
    "tags": []
   },
   "outputs": [],
   "source": [
    "d=[1,2,5,0]\n",
    "f=[1,5,6,8]"
   ]
  },
  {
   "cell_type": "markdown",
   "id": "b3bdae06-3e68-46c1-849d-80900a78b43c",
   "metadata": {},
   "source": [
    "### to check all element in iterable are true are flase"
   ]
  },
  {
   "cell_type": "code",
   "execution_count": 14,
   "id": "078e8458-d5bb-4c8c-a67e-32cdb32b3a49",
   "metadata": {},
   "outputs": [
    {
     "name": "stdout",
     "output_type": "stream",
     "text": [
      "False\n",
      "True\n"
     ]
    }
   ],
   "source": [
    "print(all(d))\n",
    "print(all(f))"
   ]
  },
  {
   "cell_type": "markdown",
   "id": "601335eb-a9fe-45f0-8b0b-0abe372676c8",
   "metadata": {},
   "source": [
    "### to check any of the element in iterable is true or false"
   ]
  },
  {
   "cell_type": "code",
   "execution_count": 15,
   "id": "f714fba3-8422-467f-9f23-445e1b9b9546",
   "metadata": {},
   "outputs": [
    {
     "name": "stdout",
     "output_type": "stream",
     "text": [
      "True\n",
      "True\n"
     ]
    }
   ],
   "source": [
    "print(any(d))\n",
    "print(any(f))"
   ]
  },
  {
   "cell_type": "markdown",
   "id": "6482310b-325d-4c05-b8c0-21978d2aa14a",
   "metadata": {},
   "source": [
    "### to check ascii value"
   ]
  },
  {
   "cell_type": "code",
   "execution_count": 16,
   "id": "69eee171-d7eb-41f7-a887-fe057b0098ee",
   "metadata": {},
   "outputs": [
    {
     "data": {
      "text/plain": [
       "'[1, 2, 5, 0]'"
      ]
     },
     "execution_count": 16,
     "metadata": {},
     "output_type": "execute_result"
    }
   ],
   "source": [
    "ascii(d)"
   ]
  },
  {
   "cell_type": "markdown",
   "id": "1f886aee-0a59-46da-a8e6-ffe703cc0cb4",
   "metadata": {},
   "source": [
    "### to get the binary vale"
   ]
  },
  {
   "cell_type": "code",
   "execution_count": 17,
   "id": "1dd389e5-d2fd-46f1-b73e-eb466fb97b7d",
   "metadata": {},
   "outputs": [
    {
     "data": {
      "text/plain": [
       "'0b101'"
      ]
     },
     "execution_count": 17,
     "metadata": {},
     "output_type": "execute_result"
    }
   ],
   "source": [
    "bin(5)"
   ]
  },
  {
   "cell_type": "markdown",
   "id": "3ec88e04-5356-4961-9e4c-264eaf083bb1",
   "metadata": {},
   "source": [
    "### to get boolean value"
   ]
  },
  {
   "cell_type": "code",
   "execution_count": 18,
   "id": "53909cd9-3107-4ecd-b655-a2ebf34a2db4",
   "metadata": {},
   "outputs": [
    {
     "data": {
      "text/plain": [
       "False"
      ]
     },
     "execution_count": 18,
     "metadata": {},
     "output_type": "execute_result"
    }
   ],
   "source": [
    "bool(d==f)"
   ]
  },
  {
   "cell_type": "markdown",
   "id": "8a074e4f-331d-4062-9b0a-1642be03244c",
   "metadata": {},
   "source": [
    "### to get byte value of asn object"
   ]
  },
  {
   "cell_type": "code",
   "execution_count": 19,
   "id": "99d5e05e-1f2e-4f7e-9c7c-b57b30622e6e",
   "metadata": {},
   "outputs": [
    {
     "data": {
      "text/plain": [
       "b'\\x00\\x00\\x00\\x00'"
      ]
     },
     "execution_count": 19,
     "metadata": {},
     "output_type": "execute_result"
    }
   ],
   "source": [
    "bytes(4)"
   ]
  },
  {
   "cell_type": "markdown",
   "id": "a5d54dfa-a22e-4ede-b4c7-4a226fbd73d7",
   "metadata": {},
   "source": [
    "### to get byte value of an elements in array"
   ]
  },
  {
   "cell_type": "code",
   "execution_count": 20,
   "id": "5a1cdad6-6555-4b3b-a56b-8675d4d413f6",
   "metadata": {},
   "outputs": [
    {
     "data": {
      "text/plain": [
       "bytearray(b'\\x01\\x02\\x05\\x00')"
      ]
     },
     "execution_count": 20,
     "metadata": {},
     "output_type": "execute_result"
    }
   ],
   "source": [
    "bytearray(d)"
   ]
  },
  {
   "cell_type": "markdown",
   "id": "b1c9a7f9-5254-48b1-b93b-3c9c5e923a65",
   "metadata": {},
   "source": [
    "### to get the hexa decimal value "
   ]
  },
  {
   "cell_type": "code",
   "execution_count": 21,
   "id": "8bbc1a22-1a73-4ba0-9783-e8f2b9ac3a89",
   "metadata": {},
   "outputs": [
    {
     "data": {
      "text/plain": [
       "'0x3'"
      ]
     },
     "execution_count": 21,
     "metadata": {},
     "output_type": "execute_result"
    }
   ],
   "source": [
    "hex(3)"
   ]
  },
  {
   "cell_type": "markdown",
   "id": "59161a8d-eee1-4f47-b589-5afd6e621f72",
   "metadata": {},
   "source": [
    "### to get octal value"
   ]
  },
  {
   "cell_type": "code",
   "execution_count": 22,
   "id": "2f19b6f2-b871-424a-9c51-a78e88cf0079",
   "metadata": {},
   "outputs": [
    {
     "data": {
      "text/plain": [
       "'0o5'"
      ]
     },
     "execution_count": 22,
     "metadata": {},
     "output_type": "execute_result"
    }
   ],
   "source": [
    "oct(5)"
   ]
  },
  {
   "cell_type": "markdown",
   "id": "78188905-ba47-42f5-9a46-0c0ae3b4c46f",
   "metadata": {},
   "source": [
    "### to get or convert to integer"
   ]
  },
  {
   "cell_type": "code",
   "execution_count": 23,
   "id": "6511175d-7cf7-4c77-8cc0-74fbd94275c2",
   "metadata": {},
   "outputs": [
    {
     "data": {
      "text/plain": [
       "2"
      ]
     },
     "execution_count": 23,
     "metadata": {},
     "output_type": "execute_result"
    }
   ],
   "source": [
    "int(2.3)"
   ]
  },
  {
   "cell_type": "markdown",
   "id": "ff29f118-a4a4-4684-b294-7f52430d8a7a",
   "metadata": {},
   "source": [
    "### to get or convert to float"
   ]
  },
  {
   "cell_type": "code",
   "execution_count": 24,
   "id": "64f94cce-f4d4-4042-8338-9e65fcf5949a",
   "metadata": {},
   "outputs": [
    {
     "data": {
      "text/plain": [
       "5.0"
      ]
     },
     "execution_count": 24,
     "metadata": {},
     "output_type": "execute_result"
    }
   ],
   "source": [
    "float(5)"
   ]
  },
  {
   "cell_type": "markdown",
   "id": "c5e3b193-31aa-463c-9186-771b79505835",
   "metadata": {},
   "source": [
    "### to cut decimal value"
   ]
  },
  {
   "cell_type": "code",
   "execution_count": 25,
   "id": "a31c8f45-2066-4ce4-a4af-df081bec21df",
   "metadata": {},
   "outputs": [
    {
     "name": "stdout",
     "output_type": "stream",
     "text": [
      "2.569\n"
     ]
    }
   ],
   "source": [
    "h=2.568789\n",
    "print(round(h,3))"
   ]
  },
  {
   "cell_type": "markdown",
   "id": "529e7b8d-1878-43d8-8e0c-c100950c425c",
   "metadata": {},
   "source": [
    "### to get or convert to string"
   ]
  },
  {
   "cell_type": "code",
   "execution_count": 26,
   "id": "32b34067-c666-48b2-af49-65c5523a02b7",
   "metadata": {},
   "outputs": [
    {
     "data": {
      "text/plain": [
       "'5'"
      ]
     },
     "execution_count": 26,
     "metadata": {},
     "output_type": "execute_result"
    }
   ],
   "source": [
    "str(5)"
   ]
  },
  {
   "cell_type": "markdown",
   "id": "4125f4c2-7858-427b-9966-93cb207fae84",
   "metadata": {},
   "source": [
    "### to get or convert to character"
   ]
  },
  {
   "cell_type": "code",
   "execution_count": 27,
   "id": "ccdcc51b-3267-4906-b8cf-2ea75024169a",
   "metadata": {},
   "outputs": [
    {
     "data": {
      "text/plain": [
       "'\\x03'"
      ]
     },
     "execution_count": 27,
     "metadata": {},
     "output_type": "execute_result"
    }
   ],
   "source": [
    "chr(3)"
   ]
  },
  {
   "cell_type": "markdown",
   "id": "1e501b9b-5187-4ace-913c-ccb5782b1141",
   "metadata": {},
   "source": [
    "### to get order of character"
   ]
  },
  {
   "cell_type": "code",
   "execution_count": 28,
   "id": "ede026c0-274a-4ea5-af57-47a1fd845126",
   "metadata": {},
   "outputs": [
    {
     "data": {
      "text/plain": [
       "3"
      ]
     },
     "execution_count": 28,
     "metadata": {},
     "output_type": "execute_result"
    }
   ],
   "source": [
    "ord('\\x03')"
   ]
  },
  {
   "cell_type": "markdown",
   "id": "5bcdc9bd-cc04-4631-8556-05b9ddaf29e1",
   "metadata": {},
   "source": [
    "### addition"
   ]
  },
  {
   "cell_type": "code",
   "execution_count": 29,
   "id": "c4a403ed-c3f1-46b8-8dfe-1f007df3f154",
   "metadata": {},
   "outputs": [
    {
     "data": {
      "text/plain": [
       "8"
      ]
     },
     "execution_count": 29,
     "metadata": {},
     "output_type": "execute_result"
    }
   ],
   "source": [
    "sum(d)"
   ]
  },
  {
   "cell_type": "markdown",
   "id": "67e1ed0b-7487-41ea-96c5-aa8c697688a7",
   "metadata": {},
   "source": [
    "### power multiply"
   ]
  },
  {
   "cell_type": "code",
   "execution_count": 30,
   "id": "20b7c3b7-d5e3-4fba-bff9-35aa61599ded",
   "metadata": {},
   "outputs": [
    {
     "data": {
      "text/plain": [
       "8"
      ]
     },
     "execution_count": 30,
     "metadata": {},
     "output_type": "execute_result"
    }
   ],
   "source": [
    "pow(2,3)"
   ]
  },
  {
   "cell_type": "markdown",
   "id": "b5a9e4e1-855c-4656-a5d3-11827521bfea",
   "metadata": {},
   "source": [
    "### division"
   ]
  },
  {
   "cell_type": "code",
   "execution_count": 31,
   "id": "3ad1c8a7-2693-42c8-a9d4-9a92392a3a2c",
   "metadata": {
    "tags": []
   },
   "outputs": [
    {
     "data": {
      "text/plain": [
       "(1, 2)"
      ]
     },
     "execution_count": 31,
     "metadata": {},
     "output_type": "execute_result"
    }
   ],
   "source": [
    "divmod(5,3) # return the quotient and the remainder"
   ]
  },
  {
   "cell_type": "markdown",
   "id": "a12e9606-b515-4de0-af78-9b1206433d10",
   "metadata": {},
   "source": [
    "### to get id of object or value"
   ]
  },
  {
   "cell_type": "code",
   "execution_count": 32,
   "id": "d6adb5fc-e413-4d3d-a98d-ae9fa8521871",
   "metadata": {},
   "outputs": [
    {
     "data": {
      "text/plain": [
       "103013952"
      ]
     },
     "execution_count": 32,
     "metadata": {},
     "output_type": "execute_result"
    }
   ],
   "source": [
    "id(d)"
   ]
  },
  {
   "cell_type": "markdown",
   "id": "590fa554-991f-4542-884e-9b5792f70bde",
   "metadata": {},
   "source": [
    "### to get memory value of bytes\n"
   ]
  },
  {
   "cell_type": "code",
   "execution_count": 33,
   "id": "14343bd1-3a65-4bee-b5a7-efba09e46be6",
   "metadata": {},
   "outputs": [
    {
     "data": {
      "text/plain": [
       "<memory at 0x0000000005397B80>"
      ]
     },
     "execution_count": 33,
     "metadata": {},
     "output_type": "execute_result"
    }
   ],
   "source": [
    "memoryview(bytes(3))"
   ]
  },
  {
   "cell_type": "markdown",
   "id": "4f3f1f5d-40f9-4917-a77b-531581b23c9c",
   "metadata": {},
   "source": [
    "### lambda function"
   ]
  },
  {
   "cell_type": "code",
   "execution_count": 34,
   "id": "7b1a8b79-d033-4bbc-889c-b958bdf1de45",
   "metadata": {},
   "outputs": [
    {
     "name": "stdout",
     "output_type": "stream",
     "text": [
      "16\n"
     ]
    }
   ],
   "source": [
    "e=lambda j: j*8  #anonymous\n",
    "print(e(2))"
   ]
  },
  {
   "cell_type": "markdown",
   "id": "65a4faea-12aa-49c1-b77b-9d1183de8d0a",
   "metadata": {},
   "source": [
    "### filter function"
   ]
  },
  {
   "cell_type": "code",
   "execution_count": 35,
   "id": "cfdcacdc-1724-44cd-982a-ae67940ed142",
   "metadata": {},
   "outputs": [
    {
     "name": "stdout",
     "output_type": "stream",
     "text": [
      "[1, 2, 0]\n"
     ]
    }
   ],
   "source": [
    "w=filter((lambda x: x<=4) ,d)\n",
    "print(list(w))"
   ]
  },
  {
   "cell_type": "markdown",
   "id": "9adbf480-863f-4139-83f6-86a1a04ac1f9",
   "metadata": {},
   "source": [
    "### slice function"
   ]
  },
  {
   "cell_type": "code",
   "execution_count": 36,
   "id": "4e384547-a03f-4500-9f1f-7405b14feef5",
   "metadata": {},
   "outputs": [
    {
     "data": {
      "text/plain": [
       "[1, 2]"
      ]
     },
     "execution_count": 36,
     "metadata": {},
     "output_type": "execute_result"
    }
   ],
   "source": [
    "d[slice(2)]"
   ]
  },
  {
   "cell_type": "markdown",
   "id": "20a75471-7821-4d76-90c9-32719d2bd459",
   "metadata": {},
   "source": [
    "### map function"
   ]
  },
  {
   "cell_type": "code",
   "execution_count": 37,
   "id": "ee853fd5-fd2d-4cfa-a5b1-ad2b3d29c1b8",
   "metadata": {},
   "outputs": [],
   "source": [
    "q=map(lambda t: t*2,d)"
   ]
  },
  {
   "cell_type": "code",
   "execution_count": 38,
   "id": "b817ced4-901c-4a97-a01e-81f0bf8771a0",
   "metadata": {},
   "outputs": [
    {
     "data": {
      "text/plain": [
       "[2, 4, 10, 0]"
      ]
     },
     "execution_count": 38,
     "metadata": {},
     "output_type": "execute_result"
    }
   ],
   "source": [
    "list(q)"
   ]
  },
  {
   "cell_type": "code",
   "execution_count": 39,
   "id": "7a358d23-01a3-4245-8b1b-01a959cc58e6",
   "metadata": {},
   "outputs": [
    {
     "data": {
      "text/plain": [
       "[1, 2, 5, 0]"
      ]
     },
     "execution_count": 39,
     "metadata": {},
     "output_type": "execute_result"
    }
   ],
   "source": [
    "d"
   ]
  },
  {
   "cell_type": "markdown",
   "id": "3e2b5db9-798e-477f-b831-14c71501efd8",
   "metadata": {},
   "source": [
    "### zip function"
   ]
  },
  {
   "cell_type": "code",
   "execution_count": 40,
   "id": "ec32d16c-f9f8-4b66-b790-6c7f4fa45598",
   "metadata": {},
   "outputs": [],
   "source": [
    "k=zip(d,f)"
   ]
  },
  {
   "cell_type": "code",
   "execution_count": 41,
   "id": "6c9a86b9-b47a-41ab-986e-e3c3d6f876ed",
   "metadata": {},
   "outputs": [
    {
     "name": "stdout",
     "output_type": "stream",
     "text": [
      "[(1, 1), (2, 5), (5, 6), (0, 8)]\n"
     ]
    }
   ],
   "source": [
    "print(list(k))"
   ]
  }
 ],
 "metadata": {
  "kernelspec": {
   "display_name": "Python 3 (ipykernel)",
   "language": "python",
   "name": "python3"
  },
  "language_info": {
   "codemirror_mode": {
    "name": "ipython",
    "version": 3
   },
   "file_extension": ".py",
   "mimetype": "text/x-python",
   "name": "python",
   "nbconvert_exporter": "python",
   "pygments_lexer": "ipython3",
   "version": "3.8.10"
  }
 },
 "nbformat": 4,
 "nbformat_minor": 5
}
