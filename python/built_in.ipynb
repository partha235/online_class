{
 "cells": [
  {
   "cell_type": "markdown",
   "id": "c292950c",
   "metadata": {},
   "source": [
    "# python built-in function"
   ]
  },
  {
   "cell_type": "code",
   "execution_count": null,
   "id": "ab8b1c28",
   "metadata": {},
   "outputs": [],
   "source": [
    "a=10.5"
   ]
  },
  {
   "cell_type": "markdown",
   "id": "96c19410",
   "metadata": {
    "tags": []
   },
   "source": [
    "### to find the type of an object"
   ]
  },
  {
   "cell_type": "code",
   "execution_count": null,
   "id": "d3ad43ea",
   "metadata": {},
   "outputs": [],
   "source": [
    "print(type(a))\n",
    "print(type(\"saga\"))"
   ]
  },
  {
   "cell_type": "markdown",
   "id": "04059731",
   "metadata": {},
   "source": [
    "### to find the length of the string"
   ]
  },
  {
   "cell_type": "code",
   "execution_count": null,
   "id": "e4bc8374",
   "metadata": {},
   "outputs": [],
   "source": [
    "x=\"saga235\"\n",
    "len(x)"
   ]
  },
  {
   "cell_type": "markdown",
   "id": "5bcb5564",
   "metadata": {},
   "source": [
    "### to find the directory of object "
   ]
  },
  {
   "cell_type": "code",
   "execution_count": null,
   "id": "acf3033d",
   "metadata": {
    "tags": []
   },
   "outputs": [],
   "source": [
    "dir(x)"
   ]
  },
  {
   "cell_type": "markdown",
   "id": "0a1c79c6",
   "metadata": {},
   "source": [
    "### to get __dict__ attribute of an object"
   ]
  },
  {
   "cell_type": "code",
   "execution_count": null,
   "id": "564f5e88",
   "metadata": {
    "tags": []
   },
   "outputs": [],
   "source": [
    "import random\n",
    "print(vars(random))"
   ]
  },
  {
   "cell_type": "markdown",
   "id": "22dea105",
   "metadata": {},
   "source": [
    "### to get absolute value"
   ]
  },
  {
   "cell_type": "code",
   "execution_count": null,
   "id": "f029f964",
   "metadata": {},
   "outputs": [],
   "source": [
    "d=-7\n",
    "print(abs(d))"
   ]
  },
  {
   "cell_type": "markdown",
   "id": "5194ca78",
   "metadata": {},
   "source": [
    "### to get bool value"
   ]
  },
  {
   "cell_type": "code",
   "execution_count": null,
   "id": "cebf40b5",
   "metadata": {},
   "outputs": [],
   "source": [
    "a=10\n",
    "b=10"
   ]
  },
  {
   "cell_type": "code",
   "execution_count": null,
   "id": "f4dd214a",
   "metadata": {},
   "outputs": [],
   "source": [
    "a!=b"
   ]
  },
  {
   "cell_type": "markdown",
   "id": "7823caaa",
   "metadata": {
    "tags": []
   },
   "source": [
    "### to find the case of the given string"
   ]
  },
  {
   "cell_type": "code",
   "execution_count": null,
   "id": "77dc679d",
   "metadata": {},
   "outputs": [],
   "source": [
    "x.upper()"
   ]
  },
  {
   "cell_type": "code",
   "execution_count": null,
   "id": "a9b36d44",
   "metadata": {},
   "outputs": [],
   "source": [
    "x.lower()"
   ]
  },
  {
   "cell_type": "code",
   "execution_count": null,
   "id": "78be876b",
   "metadata": {},
   "outputs": [],
   "source": [
    "x.islower()"
   ]
  },
  {
   "cell_type": "code",
   "execution_count": null,
   "id": "3e566a6b",
   "metadata": {},
   "outputs": [],
   "source": [
    "x.isupper()"
   ]
  },
  {
   "cell_type": "markdown",
   "id": "13956a4c",
   "metadata": {},
   "source": [
    "declaring list"
   ]
  },
  {
   "cell_type": "code",
   "execution_count": null,
   "id": "480823fb",
   "metadata": {
    "tags": []
   },
   "outputs": [],
   "source": [
    "d=[1,2,5,0]\n",
    "f=[1,5,6,8]"
   ]
  },
  {
   "cell_type": "markdown",
   "id": "7938d4ac",
   "metadata": {},
   "source": [
    "### to check all element in iterable are true are false"
   ]
  },
  {
   "cell_type": "code",
   "execution_count": null,
   "id": "a64fc49c",
   "metadata": {},
   "outputs": [],
   "source": [
    "print(all(d))\n",
    "print(all(f))"
   ]
  },
  {
   "cell_type": "markdown",
   "id": "91186735",
   "metadata": {},
   "source": [
    "### to check any of the element in iterable is true or false"
   ]
  },
  {
   "cell_type": "code",
   "execution_count": null,
   "id": "bef13c92",
   "metadata": {},
   "outputs": [],
   "source": [
    "print(any(d))\n",
    "print(any(f))"
   ]
  },
  {
   "cell_type": "markdown",
   "id": "90d24124",
   "metadata": {},
   "source": [
    "### to check ascii value"
   ]
  },
  {
   "cell_type": "code",
   "execution_count": null,
   "id": "e612494b",
   "metadata": {},
   "outputs": [],
   "source": [
    "ascii(d)"
   ]
  },
  {
   "cell_type": "markdown",
   "id": "8d431652",
   "metadata": {},
   "source": [
    "### to get the binary vale"
   ]
  },
  {
   "cell_type": "code",
   "execution_count": null,
   "id": "94a3b1e4",
   "metadata": {},
   "outputs": [],
   "source": [
    "bin(5)"
   ]
  },
  {
   "cell_type": "markdown",
   "id": "28ce14ca",
   "metadata": {},
   "source": [
    "### to get boolean value"
   ]
  },
  {
   "cell_type": "code",
   "execution_count": null,
   "id": "5f4981fc",
   "metadata": {},
   "outputs": [],
   "source": [
    "bool(d==f)"
   ]
  },
  {
   "cell_type": "markdown",
   "id": "c663f6e2",
   "metadata": {},
   "source": [
    "### to get byte value of asn object"
   ]
  },
  {
   "cell_type": "code",
   "execution_count": null,
   "id": "c9751077",
   "metadata": {},
   "outputs": [],
   "source": [
    "bytes(4)"
   ]
  },
  {
   "cell_type": "markdown",
   "id": "cf106db2",
   "metadata": {},
   "source": [
    "### to get byte value of an elements in array"
   ]
  },
  {
   "cell_type": "code",
   "execution_count": null,
   "id": "6b5db8bf",
   "metadata": {},
   "outputs": [],
   "source": [
    "bytearray(d)"
   ]
  },
  {
   "cell_type": "markdown",
   "id": "f794de32",
   "metadata": {},
   "source": [
    "### to get the hex decimal value "
   ]
  },
  {
   "cell_type": "code",
   "execution_count": null,
   "id": "7465b01e",
   "metadata": {},
   "outputs": [],
   "source": [
    "hex(3)"
   ]
  },
  {
   "cell_type": "markdown",
   "id": "4aa283be",
   "metadata": {},
   "source": [
    "### to get octal value"
   ]
  },
  {
   "cell_type": "code",
   "execution_count": null,
   "id": "0213e4ee",
   "metadata": {},
   "outputs": [],
   "source": [
    "oct(5)"
   ]
  },
  {
   "cell_type": "markdown",
   "id": "bfb0fa07",
   "metadata": {},
   "source": [
    "### to get or convert to integer"
   ]
  },
  {
   "cell_type": "code",
   "execution_count": null,
   "id": "3fd927ed",
   "metadata": {},
   "outputs": [],
   "source": [
    "int(2.3)"
   ]
  },
  {
   "cell_type": "markdown",
   "id": "9c5d2150",
   "metadata": {},
   "source": [
    "### to get or convert to float"
   ]
  },
  {
   "cell_type": "code",
   "execution_count": null,
   "id": "8d928b37",
   "metadata": {},
   "outputs": [],
   "source": [
    "float(5)"
   ]
  },
  {
   "cell_type": "markdown",
   "id": "5fa5df48",
   "metadata": {},
   "source": [
    "### to cut decimal value"
   ]
  },
  {
   "cell_type": "code",
   "execution_count": null,
   "id": "0903def0",
   "metadata": {},
   "outputs": [],
   "source": [
    "h=2.568789\n",
    "print(round(h,3))"
   ]
  },
  {
   "cell_type": "markdown",
   "id": "9dd3d7a3",
   "metadata": {
    "jupyter": {
     "source_hidden": true
    }
   },
   "source": [
    "### to get or convert to string"
   ]
  },
  {
   "cell_type": "code",
   "execution_count": null,
   "id": "742a2119",
   "metadata": {},
   "outputs": [],
   "source": [
    "str(5)"
   ]
  },
  {
   "cell_type": "markdown",
   "id": "475872fd",
   "metadata": {},
   "source": [
    "### to get or convert to character"
   ]
  },
  {
   "cell_type": "code",
   "execution_count": null,
   "id": "e660d502",
   "metadata": {},
   "outputs": [],
   "source": [
    "chr(3)"
   ]
  },
  {
   "cell_type": "markdown",
   "id": "3af7142e",
   "metadata": {},
   "source": [
    "### to get order of character"
   ]
  },
  {
   "cell_type": "code",
   "execution_count": null,
   "id": "d6e540c4",
   "metadata": {},
   "outputs": [],
   "source": [
    "ord('\\x03')"
   ]
  },
  {
   "cell_type": "markdown",
   "id": "81276145",
   "metadata": {},
   "source": [
    "### addition"
   ]
  },
  {
   "cell_type": "code",
   "execution_count": null,
   "id": "0814ec50",
   "metadata": {},
   "outputs": [],
   "source": [
    "sum(d)"
   ]
  },
  {
   "cell_type": "markdown",
   "id": "87f32e24",
   "metadata": {},
   "source": [
    "### power multiply"
   ]
  },
  {
   "cell_type": "code",
   "execution_count": null,
   "id": "dfc50bde",
   "metadata": {},
   "outputs": [],
   "source": [
    "pow(2,3)"
   ]
  },
  {
   "cell_type": "markdown",
   "id": "16a047be",
   "metadata": {},
   "source": [
    "### division"
   ]
  },
  {
   "cell_type": "code",
   "execution_count": null,
   "id": "8f07cb2c",
   "metadata": {
    "tags": []
   },
   "outputs": [],
   "source": [
    "divmod(5,3) # return the quotient and the remainder"
   ]
  },
  {
   "cell_type": "markdown",
   "id": "ce12573d",
   "metadata": {},
   "source": [
    "### to get id of object or value"
   ]
  },
  {
   "cell_type": "code",
   "execution_count": null,
   "id": "0dde8df0",
   "metadata": {},
   "outputs": [],
   "source": [
    "id(d)"
   ]
  },
  {
   "cell_type": "markdown",
   "id": "e7345756",
   "metadata": {},
   "source": [
    "### to get memory value of bytes\n"
   ]
  },
  {
   "cell_type": "code",
   "execution_count": null,
   "id": "faf8cc3c",
   "metadata": {},
   "outputs": [],
   "source": [
    "memoryview(bytes(3))"
   ]
  },
  {
   "cell_type": "markdown",
   "id": "34deaa3a",
   "metadata": {},
   "source": [
    "### lambda function"
   ]
  },
  {
   "cell_type": "code",
   "execution_count": null,
   "id": "5ba72a68",
   "metadata": {},
   "outputs": [],
   "source": [
    "e=lambda j: j*8  #anonymous\n",
    "print(e(2))"
   ]
  },
  {
   "cell_type": "markdown",
   "id": "8462f310",
   "metadata": {},
   "source": [
    "### filter function"
   ]
  },
  {
   "cell_type": "code",
   "execution_count": null,
   "id": "c23ce574",
   "metadata": {},
   "outputs": [],
   "source": [
    "w=filter((lambda x: x<=4) ,d)\n",
    "print(list(w))"
   ]
  },
  {
   "cell_type": "markdown",
   "id": "c106ab0e",
   "metadata": {},
   "source": [
    "### slice function"
   ]
  },
  {
   "cell_type": "code",
   "execution_count": null,
   "id": "3bd6d05e",
   "metadata": {},
   "outputs": [],
   "source": [
    "d[slice(2)]"
   ]
  },
  {
   "cell_type": "markdown",
   "id": "724afef8",
   "metadata": {},
   "source": [
    "### map function"
   ]
  },
  {
   "cell_type": "code",
   "execution_count": null,
   "id": "b08b3fbb",
   "metadata": {},
   "outputs": [],
   "source": [
    "q=map(lambda t: t*2,d)"
   ]
  },
  {
   "cell_type": "code",
   "execution_count": null,
   "id": "131a524c",
   "metadata": {},
   "outputs": [],
   "source": [
    "list(q)"
   ]
  },
  {
   "cell_type": "code",
   "execution_count": null,
   "id": "1af7f4bc",
   "metadata": {},
   "outputs": [],
   "source": [
    "d"
   ]
  },
  {
   "cell_type": "markdown",
   "id": "5bc19926",
   "metadata": {},
   "source": [
    "### zip function"
   ]
  },
  {
   "cell_type": "code",
   "execution_count": null,
   "id": "44f3e285",
   "metadata": {},
   "outputs": [],
   "source": [
    "k=zip(d,f)"
   ]
  },
  {
   "cell_type": "code",
   "execution_count": null,
   "id": "5d3d9315",
   "metadata": {},
   "outputs": [],
   "source": [
    "print(list(k))"
   ]
  },
  {
   "cell_type": "markdown",
   "id": "ac07ae36",
   "metadata": {},
   "source": [
    "### format"
   ]
  },
  {
   "cell_type": "code",
   "execution_count": 15,
   "id": "49833c08",
   "metadata": {},
   "outputs": [
    {
     "data": {
      "text/plain": [
       "'giri: hello hari how are you'"
      ]
     },
     "execution_count": 15,
     "metadata": {},
     "output_type": "execute_result"
    }
   ],
   "source": [
    "\"{} hello {} how are you\".format(\"giri:\", \"hari\")"
   ]
  },
  {
   "cell_type": "code",
   "execution_count": 4,
   "id": "937d3eb1",
   "metadata": {},
   "outputs": [
    {
     "name": "stdout",
     "output_type": "stream",
     "text": [
      "saga\n"
     ]
    }
   ],
   "source": [
    "exec(\"print(\\\"saga\\\")\")  # \\ was used to escape the the string."
   ]
  },
  {
   "cell_type": "code",
   "execution_count": null,
   "id": "0bc83b9f",
   "metadata": {},
   "outputs": [],
   "source": []
  }
 ],
 "metadata": {
  "kernelspec": {
   "display_name": "Python 3",
   "language": "python",
   "name": "python3"
  },
  "language_info": {
   "codemirror_mode": {
    "name": "ipython",
    "version": 3
   },
   "file_extension": ".py",
   "mimetype": "text/x-python",
   "name": "python",
   "nbconvert_exporter": "python",
   "pygments_lexer": "ipython3",
   "version": "3.8.13"
  }
 },
 "nbformat": 4,
 "nbformat_minor": 5
}
