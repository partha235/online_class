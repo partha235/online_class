{
 "cells": [
  {
   "cell_type": "markdown",
   "id": "78c60e8a",
   "metadata": {},
   "source": [
    "# turtle module"
   ]
  },
  {
   "cell_type": "markdown",
   "id": "10a6f005",
   "metadata": {},
   "source": [
    "it's a drawing library. it was in-built."
   ]
  },
  {
   "cell_type": "markdown",
   "id": "e07dc642",
   "metadata": {},
   "source": [
    "### ways of importing module / library"
   ]
  },
  {
   "cell_type": "code",
   "execution_count": null,
   "id": "3c9c6a0b",
   "metadata": {},
   "outputs": [],
   "source": [
    "import turtle #imports turtle library in the name of turle"
   ]
  },
  {
   "cell_type": "code",
   "execution_count": null,
   "id": "a554c96e",
   "metadata": {
    "jupyter": {
     "source_hidden": true
    },
    "tags": []
   },
   "outputs": [],
   "source": [
    "turtle.fd(100)"
   ]
  },
  {
   "cell_type": "code",
   "execution_count": null,
   "id": "e6f337c0",
   "metadata": {},
   "outputs": [],
   "source": [
    "import turtle as t #imports turlte library in the name of t"
   ]
  },
  {
   "cell_type": "code",
   "execution_count": null,
   "id": "ab014ac0",
   "metadata": {
    "jupyter": {
     "source_hidden": true
    },
    "tags": []
   },
   "outputs": [],
   "source": [
    "t.fd(50)"
   ]
  },
  {
   "cell_type": "code",
   "execution_count": null,
   "id": "b3df7526",
   "metadata": {
    "jupyter": {
     "source_hidden": true
    },
    "tags": []
   },
   "outputs": [],
   "source": [
    "dir(turtle)"
   ]
  },
  {
   "cell_type": "code",
   "execution_count": null,
   "id": "5989719c",
   "metadata": {
    "jupyter": {
     "source_hidden": true
    },
    "tags": []
   },
   "outputs": [],
   "source": [
    "dir(t)"
   ]
  },
  {
   "cell_type": "code",
   "execution_count": null,
   "id": "2133b435",
   "metadata": {},
   "outputs": [],
   "source": [
    "from turtle import fd,left #imports particular function "
   ]
  },
  {
   "cell_type": "code",
   "execution_count": null,
   "id": "f3a0674f",
   "metadata": {
    "jupyter": {
     "source_hidden": true
    },
    "tags": []
   },
   "outputs": [],
   "source": [
    "fd(50)"
   ]
  },
  {
   "cell_type": "code",
   "execution_count": null,
   "id": "f322a7ad",
   "metadata": {
    "tags": []
   },
   "outputs": [],
   "source": [
    "from turtle import * #imports all function without any name "
   ]
  },
  {
   "cell_type": "markdown",
   "id": "7b5317ce",
   "metadata": {},
   "source": [
    "### to move forward"
   ]
  },
  {
   "cell_type": "code",
   "execution_count": null,
   "id": "0497896b",
   "metadata": {
    "tags": []
   },
   "outputs": [],
   "source": [
    "fd(50) # forward(50)"
   ]
  },
  {
   "cell_type": "markdown",
   "id": "a475a033",
   "metadata": {},
   "source": [
    "### to move backward "
   ]
  },
  {
   "cell_type": "code",
   "execution_count": null,
   "id": "2d48fddc",
   "metadata": {},
   "outputs": [],
   "source": [
    "bk(50) # backward(50)"
   ]
  },
  {
   "cell_type": "markdown",
   "id": "d1120019",
   "metadata": {},
   "source": [
    "### to turn left side"
   ]
  },
  {
   "cell_type": "code",
   "execution_count": null,
   "id": "285652ba",
   "metadata": {
    "tags": []
   },
   "outputs": [],
   "source": [
    "left(90) # or lt(angle)"
   ]
  },
  {
   "cell_type": "markdown",
   "id": "a0472a3c",
   "metadata": {},
   "source": [
    "### to turn right "
   ]
  },
  {
   "cell_type": "code",
   "execution_count": null,
   "id": "8bb2f453",
   "metadata": {},
   "outputs": [],
   "source": [
    "right(45)"
   ]
  },
  {
   "cell_type": "markdown",
   "id": "7ada67ac",
   "metadata": {},
   "source": [
    "### to draw circle"
   ]
  },
  {
   "cell_type": "code",
   "execution_count": null,
   "id": "0341443c",
   "metadata": {},
   "outputs": [],
   "source": [
    "circle(100)"
   ]
  },
  {
   "cell_type": "code",
   "execution_count": null,
   "id": "bdd68679",
   "metadata": {},
   "outputs": [],
   "source": [
    "circle(50,10) # to draw an arc"
   ]
  },
  {
   "cell_type": "markdown",
   "id": "fde2be5f",
   "metadata": {},
   "source": [
    "### to move cursor without trace"
   ]
  },
  {
   "cell_type": "code",
   "execution_count": null,
   "id": "ec3f8e5c",
   "metadata": {},
   "outputs": [],
   "source": [
    "penup()"
   ]
  },
  {
   "cell_type": "markdown",
   "id": "3a039287",
   "metadata": {},
   "source": [
    "### to make cursor for trace"
   ]
  },
  {
   "cell_type": "code",
   "execution_count": null,
   "id": "fa4072c3",
   "metadata": {},
   "outputs": [],
   "source": [
    "pendown()"
   ]
  },
  {
   "cell_type": "markdown",
   "id": "cb399588",
   "metadata": {},
   "source": [
    "### to change pen size"
   ]
  },
  {
   "cell_type": "code",
   "execution_count": null,
   "id": "2afbd04f",
   "metadata": {},
   "outputs": [],
   "source": [
    "pensize(20)"
   ]
  },
  {
   "cell_type": "markdown",
   "id": "c252b875",
   "metadata": {},
   "source": [
    "### to change pen color"
   ]
  },
  {
   "cell_type": "code",
   "execution_count": null,
   "id": "85bb6748",
   "metadata": {},
   "outputs": [],
   "source": [
    "pencolor('red')"
   ]
  },
  {
   "cell_type": "code",
   "execution_count": null,
   "id": "6cdeba1d",
   "metadata": {},
   "outputs": [],
   "source": [
    "fd(50)"
   ]
  },
  {
   "cell_type": "markdown",
   "id": "d8afef7d",
   "metadata": {},
   "source": [
    "### to undo the action "
   ]
  },
  {
   "cell_type": "code",
   "execution_count": null,
   "id": "211f9f2c",
   "metadata": {},
   "outputs": [],
   "source": [
    "undo()"
   ]
  },
  {
   "cell_type": "markdown",
   "id": "75eec054",
   "metadata": {},
   "source": [
    "### to clear the trace"
   ]
  },
  {
   "cell_type": "code",
   "execution_count": null,
   "id": "2fed546e",
   "metadata": {},
   "outputs": [],
   "source": [
    "clear()"
   ]
  },
  {
   "cell_type": "markdown",
   "id": "40b9bef6",
   "metadata": {},
   "source": [
    "### to fill color for shape"
   ]
  },
  {
   "cell_type": "code",
   "execution_count": null,
   "id": "1495eee9",
   "metadata": {},
   "outputs": [],
   "source": [
    "color('brown')\n",
    "begin_fill()\n",
    "circle(100)\n",
    "end_fill()"
   ]
  },
  {
   "cell_type": "markdown",
   "id": "21e4efd8",
   "metadata": {},
   "source": [
    "### to write the name"
   ]
  },
  {
   "cell_type": "code",
   "execution_count": null,
   "id": "f0057b53",
   "metadata": {},
   "outputs": [],
   "source": [
    "pencolor('black')"
   ]
  },
  {
   "cell_type": "code",
   "execution_count": null,
   "id": "51732ca7",
   "metadata": {},
   "outputs": [],
   "source": [
    "write('saga',move=False,align='center',font='Arial')"
   ]
  },
  {
   "cell_type": "code",
   "execution_count": null,
   "id": "5efb3e76",
   "metadata": {},
   "outputs": [],
   "source": []
  }
 ],
 "metadata": {
  "kernelspec": {
   "display_name": "Python 3",
   "language": "python",
   "name": "python3"
  },
  "language_info": {
   "codemirror_mode": {
    "name": "ipython",
    "version": 3
   },
   "file_extension": ".py",
   "mimetype": "text/x-python",
   "name": "python",
   "nbconvert_exporter": "python",
   "pygments_lexer": "ipython3",
   "version": "3.7.4"
  }
 },
 "nbformat": 4,
 "nbformat_minor": 5
}
