{
 "cells": [
  {
   "cell_type": "markdown",
   "id": "9dd1509b-a0d7-4eb0-a30e-9a965d1ce163",
   "metadata": {},
   "source": [
    "# turtle module"
   ]
  },
  {
   "cell_type": "markdown",
   "id": "52719a8f-1997-4cdf-b278-25b5b36e9032",
   "metadata": {},
   "source": [
    "it's a drawing library. it was in-built."
   ]
  },
  {
   "cell_type": "markdown",
   "id": "cc3ac37f-feb7-41ca-b526-891805514ed1",
   "metadata": {},
   "source": [
    "### ways of importing module / library"
   ]
  },
  {
   "cell_type": "code",
   "execution_count": null,
   "id": "dbf8f18c-344b-4d94-86c4-e829ee1c0d93",
   "metadata": {},
   "outputs": [],
   "source": [
    "import turtle #imports turtle library in the name of turle"
   ]
  },
  {
   "cell_type": "code",
   "execution_count": null,
   "id": "656784a8-528d-4728-93bb-bf7dcf91986d",
   "metadata": {
    "jupyter": {
     "source_hidden": true
    },
    "tags": []
   },
   "outputs": [],
   "source": [
    "turtle.fd(100)"
   ]
  },
  {
   "cell_type": "code",
   "execution_count": null,
   "id": "34cdb59f-b880-4c26-b493-b3b57bacd7c1",
   "metadata": {},
   "outputs": [],
   "source": [
    "import turtle as t #imports turlte library in the name of t"
   ]
  },
  {
   "cell_type": "code",
   "execution_count": null,
   "id": "9e5793c5-cdc7-4803-8312-2324f1dff242",
   "metadata": {
    "jupyter": {
     "source_hidden": true
    },
    "tags": []
   },
   "outputs": [],
   "source": [
    "t.fd(50)"
   ]
  },
  {
   "cell_type": "code",
   "execution_count": null,
   "id": "f2e2eede-d589-4b7b-9209-7ca945d06e2b",
   "metadata": {
    "jupyter": {
     "source_hidden": true
    },
    "tags": []
   },
   "outputs": [],
   "source": [
    "dir(turtle)"
   ]
  },
  {
   "cell_type": "code",
   "execution_count": null,
   "id": "c91fb30f-d18c-4a7b-bf69-fd887d2d4716",
   "metadata": {
    "jupyter": {
     "source_hidden": true
    },
    "tags": []
   },
   "outputs": [],
   "source": [
    "dir(t)"
   ]
  },
  {
   "cell_type": "code",
   "execution_count": null,
   "id": "f3c2e610-d3ac-45eb-bca1-4a2ee90d048a",
   "metadata": {},
   "outputs": [],
   "source": [
    "from turtle import fd,left #imports particular function "
   ]
  },
  {
   "cell_type": "code",
   "execution_count": null,
   "id": "19fe9308-1adf-4fa7-b785-e494e276d5e3",
   "metadata": {
    "jupyter": {
     "source_hidden": true
    },
    "tags": []
   },
   "outputs": [],
   "source": [
    "fd(50)"
   ]
  },
  {
   "cell_type": "code",
   "execution_count": null,
   "id": "a33cb8f6-741b-486e-97dc-ecbfa8174c6d",
   "metadata": {
    "tags": []
   },
   "outputs": [],
   "source": [
    "from turtle import * #imports all function without any name "
   ]
  },
  {
   "cell_type": "code",
   "execution_count": null,
   "id": "cb8f50f3-b5f9-49cf-917f-f911039391ff",
   "metadata": {
    "tags": []
   },
   "outputs": [],
   "source": [
    "fd(50)"
   ]
  },
  {
   "cell_type": "code",
   "execution_count": null,
   "id": "d2aedde7-31c7-4781-be2e-369923d19659",
   "metadata": {
    "tags": []
   },
   "outputs": [],
   "source": [
    "left(90)"
   ]
  },
  {
   "cell_type": "code",
   "execution_count": null,
   "id": "51705ee7-13dd-46a5-96e3-71a91385bde6",
   "metadata": {},
   "outputs": [],
   "source": [
    "bk(50)"
   ]
  },
  {
   "cell_type": "code",
   "execution_count": null,
   "id": "3c538797-d6e5-4735-ab4e-dfc359514c1d",
   "metadata": {},
   "outputs": [],
   "source": [
    "circle(100)"
   ]
  },
  {
   "cell_type": "code",
   "execution_count": null,
   "id": "1247874e-4545-43e9-8904-8054ca1925c9",
   "metadata": {},
   "outputs": [],
   "source": []
  }
 ],
 "metadata": {
  "kernelspec": {
   "display_name": "Python 3 (ipykernel)",
   "language": "python",
   "name": "python3"
  },
  "language_info": {
   "codemirror_mode": {
    "name": "ipython",
    "version": 3
   },
   "file_extension": ".py",
   "mimetype": "text/x-python",
   "name": "python",
   "nbconvert_exporter": "python",
   "pygments_lexer": "ipython3",
   "version": "3.8.10"
  }
 },
 "nbformat": 4,
 "nbformat_minor": 5
}
