{
 "cells": [
  {
   "cell_type": "markdown",
   "id": "c292950c",
   "metadata": {},
   "source": [
    "# python built-in function"
   ]
  },
  {
   "cell_type": "code",
   "execution_count": 3,
   "id": "ab8b1c28",
   "metadata": {},
   "outputs": [],
   "source": [
    "a=10.5"
   ]
  },
  {
   "cell_type": "markdown",
   "id": "96c19410",
   "metadata": {
    "tags": []
   },
   "source": [
    "### to find the type of an object"
   ]
  },
  {
   "cell_type": "code",
   "execution_count": 4,
   "id": "d3ad43ea",
   "metadata": {},
   "outputs": [
    {
     "name": "stdout",
     "output_type": "stream",
     "text": [
      "<class 'float'>\n",
      "<class 'str'>\n",
      "<class 'str'>\n"
     ]
    }
   ],
   "source": [
    "print(type(a))\n",
    "print(type(\"saga\"))\n",
    "print(type(\"\\0b1\"))"
   ]
  },
  {
   "cell_type": "markdown",
   "id": "04059731",
   "metadata": {},
   "source": [
    "### to find the length of the string"
   ]
  },
  {
   "cell_type": "code",
   "execution_count": 1,
   "id": "e4bc8374",
   "metadata": {},
   "outputs": [
    {
     "data": {
      "text/plain": [
       "7"
      ]
     },
     "execution_count": 1,
     "metadata": {},
     "output_type": "execute_result"
    }
   ],
   "source": [
    "x=\"saga235\"\n",
    "len(x)"
   ]
  },
  {
   "cell_type": "code",
   "execution_count": 5,
   "id": "a55d01e7",
   "metadata": {},
   "outputs": [
    {
     "data": {
      "text/plain": [
       "4"
      ]
     },
     "execution_count": 5,
     "metadata": {},
     "output_type": "execute_result"
    }
   ],
   "source": [
    "e=[5,6,8,3]\n",
    "len(e)"
   ]
  },
  {
   "cell_type": "markdown",
   "id": "5bcb5564",
   "metadata": {},
   "source": [
    "### to find the directory of object "
   ]
  },
  {
   "cell_type": "code",
   "execution_count": null,
   "id": "acf3033d",
   "metadata": {
    "collapsed": true,
    "jupyter": {
     "outputs_hidden": true
    },
    "tags": []
   },
   "outputs": [],
   "source": [
    "dir(x)"
   ]
  },
  {
   "cell_type": "markdown",
   "id": "0a1c79c6",
   "metadata": {},
   "source": [
    "### to get __dict__ attribute of an object"
   ]
  },
  {
   "cell_type": "code",
   "execution_count": 6,
   "id": "564f5e88",
   "metadata": {
    "collapsed": true,
    "jupyter": {
     "outputs_hidden": true
    },
    "tags": []
   },
   "outputs": [
    {
     "name": "stdout",
     "output_type": "stream",
     "text": [
      "{'__name__': 'random', '__doc__': 'Random variable generators.\\n\\n    bytes\\n    -----\\n           uniform bytes (values between 0 and 255)\\n\\n    integers\\n    --------\\n           uniform within range\\n\\n    sequences\\n    ---------\\n           pick random element\\n           pick random sample\\n           pick weighted random sample\\n           generate random permutation\\n\\n    distributions on the real line:\\n    ------------------------------\\n           uniform\\n           triangular\\n           normal (Gaussian)\\n           lognormal\\n           negative exponential\\n           gamma\\n           beta\\n           pareto\\n           Weibull\\n\\n    distributions on the circle (angles 0 to 2pi)\\n    ---------------------------------------------\\n           circular uniform\\n           von Mises\\n\\n    discrete distributions\\n    ----------------------\\n           binomial\\n\\n\\nGeneral notes on the underlying Mersenne Twister core generator:\\n\\n* The period is 2**19937-1.\\n* It is one of the most extensively tested generators in existence.\\n* The random() method is implemented in C, executes in a single Python step,\\n  and is, therefore, threadsafe.\\n\\n', '__package__': '', '__loader__': <_frozen_importlib_external.SourceFileLoader object at 0x7f72aec89cd0>, '__spec__': ModuleSpec(name='random', loader=<_frozen_importlib_external.SourceFileLoader object at 0x7f72aec89cd0>, origin='/usr/lib/python3.13/random.py'), '__file__': '/usr/lib/python3.13/random.py', '__cached__': '/usr/lib/python3.13/__pycache__/random.cpython-313.pyc', '__builtins__': {'__name__': 'builtins', '__doc__': \"Built-in functions, types, exceptions, and other objects.\\n\\nThis module provides direct access to all 'built-in'\\nidentifiers of Python; for example, builtins.len is\\nthe full name for the built-in function len().\\n\\nThis module is not normally accessed explicitly by most\\napplications, but can be useful in modules that provide\\nobjects with the same name as a built-in value, but in\\nwhich the built-in of that name is also needed.\", '__package__': '', '__loader__': <class '_frozen_importlib.BuiltinImporter'>, '__spec__': ModuleSpec(name='builtins', loader=<class '_frozen_importlib.BuiltinImporter'>, origin='built-in'), '__build_class__': <built-in function __build_class__>, '__import__': <built-in function __import__>, 'abs': <built-in function abs>, 'all': <built-in function all>, 'any': <built-in function any>, 'ascii': <built-in function ascii>, 'bin': <built-in function bin>, 'breakpoint': <built-in function breakpoint>, 'callable': <built-in function callable>, 'chr': <built-in function chr>, 'compile': <built-in function compile>, 'delattr': <built-in function delattr>, 'dir': <built-in function dir>, 'divmod': <built-in function divmod>, 'eval': <built-in function eval>, 'exec': <built-in function exec>, 'format': <built-in function format>, 'getattr': <built-in function getattr>, 'globals': <built-in function globals>, 'hasattr': <built-in function hasattr>, 'hash': <built-in function hash>, 'hex': <built-in function hex>, 'id': <built-in function id>, 'input': <bound method Kernel.raw_input of <ipykernel.ipkernel.IPythonKernel object at 0x7f72ac6afe00>>, 'isinstance': <built-in function isinstance>, 'issubclass': <built-in function issubclass>, 'iter': <built-in function iter>, 'aiter': <built-in function aiter>, 'len': <built-in function len>, 'locals': <built-in function locals>, 'max': <built-in function max>, 'min': <built-in function min>, 'next': <built-in function next>, 'anext': <built-in function anext>, 'oct': <built-in function oct>, 'ord': <built-in function ord>, 'pow': <built-in function pow>, 'print': <built-in function print>, 'repr': <built-in function repr>, 'round': <built-in function round>, 'setattr': <built-in function setattr>, 'sorted': <built-in function sorted>, 'sum': <built-in function sum>, 'vars': <built-in function vars>, 'None': None, 'Ellipsis': Ellipsis, 'NotImplemented': NotImplemented, 'False': False, 'True': True, 'bool': <class 'bool'>, 'memoryview': <class 'memoryview'>, 'bytearray': <class 'bytearray'>, 'bytes': <class 'bytes'>, 'classmethod': <class 'classmethod'>, 'complex': <class 'complex'>, 'dict': <class 'dict'>, 'enumerate': <class 'enumerate'>, 'filter': <class 'filter'>, 'float': <class 'float'>, 'frozenset': <class 'frozenset'>, 'property': <class 'property'>, 'int': <class 'int'>, 'list': <class 'list'>, 'map': <class 'map'>, 'object': <class 'object'>, 'range': <class 'range'>, 'reversed': <class 'reversed'>, 'set': <class 'set'>, 'slice': <class 'slice'>, 'staticmethod': <class 'staticmethod'>, 'str': <class 'str'>, 'super': <class 'super'>, 'tuple': <class 'tuple'>, 'type': <class 'type'>, 'zip': <class 'zip'>, '__debug__': True, 'BaseException': <class 'BaseException'>, 'BaseExceptionGroup': <class 'BaseExceptionGroup'>, 'Exception': <class 'Exception'>, 'GeneratorExit': <class 'GeneratorExit'>, 'KeyboardInterrupt': <class 'KeyboardInterrupt'>, 'SystemExit': <class 'SystemExit'>, 'ArithmeticError': <class 'ArithmeticError'>, 'AssertionError': <class 'AssertionError'>, 'AttributeError': <class 'AttributeError'>, 'BufferError': <class 'BufferError'>, 'EOFError': <class 'EOFError'>, 'ImportError': <class 'ImportError'>, 'LookupError': <class 'LookupError'>, 'MemoryError': <class 'MemoryError'>, 'NameError': <class 'NameError'>, 'OSError': <class 'OSError'>, 'ReferenceError': <class 'ReferenceError'>, 'RuntimeError': <class 'RuntimeError'>, 'StopAsyncIteration': <class 'StopAsyncIteration'>, 'StopIteration': <class 'StopIteration'>, 'SyntaxError': <class 'SyntaxError'>, 'SystemError': <class 'SystemError'>, 'TypeError': <class 'TypeError'>, 'ValueError': <class 'ValueError'>, 'Warning': <class 'Warning'>, 'FloatingPointError': <class 'FloatingPointError'>, 'OverflowError': <class 'OverflowError'>, 'ZeroDivisionError': <class 'ZeroDivisionError'>, 'BytesWarning': <class 'BytesWarning'>, 'DeprecationWarning': <class 'DeprecationWarning'>, 'EncodingWarning': <class 'EncodingWarning'>, 'FutureWarning': <class 'FutureWarning'>, 'ImportWarning': <class 'ImportWarning'>, 'PendingDeprecationWarning': <class 'PendingDeprecationWarning'>, 'ResourceWarning': <class 'ResourceWarning'>, 'RuntimeWarning': <class 'RuntimeWarning'>, 'SyntaxWarning': <class 'SyntaxWarning'>, 'UnicodeWarning': <class 'UnicodeWarning'>, 'UserWarning': <class 'UserWarning'>, 'BlockingIOError': <class 'BlockingIOError'>, 'ChildProcessError': <class 'ChildProcessError'>, 'ConnectionError': <class 'ConnectionError'>, 'FileExistsError': <class 'FileExistsError'>, 'FileNotFoundError': <class 'FileNotFoundError'>, 'InterruptedError': <class 'InterruptedError'>, 'IsADirectoryError': <class 'IsADirectoryError'>, 'NotADirectoryError': <class 'NotADirectoryError'>, 'PermissionError': <class 'PermissionError'>, 'ProcessLookupError': <class 'ProcessLookupError'>, 'TimeoutError': <class 'TimeoutError'>, 'IndentationError': <class 'IndentationError'>, '_IncompleteInputError': <class '_IncompleteInputError'>, 'IndexError': <class 'IndexError'>, 'KeyError': <class 'KeyError'>, 'ModuleNotFoundError': <class 'ModuleNotFoundError'>, 'NotImplementedError': <class 'NotImplementedError'>, 'PythonFinalizationError': <class 'PythonFinalizationError'>, 'RecursionError': <class 'RecursionError'>, 'UnboundLocalError': <class 'UnboundLocalError'>, 'UnicodeError': <class 'UnicodeError'>, 'BrokenPipeError': <class 'BrokenPipeError'>, 'ConnectionAbortedError': <class 'ConnectionAbortedError'>, 'ConnectionRefusedError': <class 'ConnectionRefusedError'>, 'ConnectionResetError': <class 'ConnectionResetError'>, 'TabError': <class 'TabError'>, 'UnicodeDecodeError': <class 'UnicodeDecodeError'>, 'UnicodeEncodeError': <class 'UnicodeEncodeError'>, 'UnicodeTranslateError': <class 'UnicodeTranslateError'>, 'ExceptionGroup': <class 'ExceptionGroup'>, 'EnvironmentError': <class 'OSError'>, 'IOError': <class 'OSError'>, 'open': <built-in function open>, 'copyright': Copyright (c) 2001-2024 Python Software Foundation.\n",
      "All Rights Reserved.\n",
      "\n",
      "Copyright (c) 2000 BeOpen.com.\n",
      "All Rights Reserved.\n",
      "\n",
      "Copyright (c) 1995-2001 Corporation for National Research Initiatives.\n",
      "All Rights Reserved.\n",
      "\n",
      "Copyright (c) 1991-1995 Stichting Mathematisch Centrum, Amsterdam.\n",
      "All Rights Reserved., 'credits':     Thanks to CWI, CNRI, BeOpen, Zope Corporation, the Python Software\n",
      "    Foundation, and a cast of thousands for supporting Python\n",
      "    development.  See www.python.org for more information., 'license': Type license() to see the full license text, 'help': Type help() for interactive help, or help(object) for help about object., 'execfile': <function execfile at 0x7f72a83ffc40>, 'runfile': <function runfile at 0x7f72a8360e00>, '__IPYTHON__': True, 'display': <function display at 0x7f72ad717ec0>, 'get_ipython': <bound method InteractiveShell.get_ipython of <ipykernel.zmqshell.ZMQInteractiveShell object at 0x7f72a8195a90>>}, '_log': <built-in function log>, '_exp': <built-in function exp>, '_pi': 3.141592653589793, '_e': 2.718281828459045, '_ceil': <built-in function ceil>, '_sqrt': <built-in function sqrt>, '_acos': <built-in function acos>, '_cos': <built-in function cos>, '_sin': <built-in function sin>, 'TWOPI': 6.283185307179586, '_floor': <built-in function floor>, '_isfinite': <built-in function isfinite>, '_lgamma': <built-in function lgamma>, '_fabs': <built-in function fabs>, '_log2': <built-in function log2>, '_urandom': <built-in function urandom>, '_Sequence': <class 'collections.abc.Sequence'>, '_index': <built-in function index>, '_accumulate': <class 'itertools.accumulate'>, '_repeat': <class 'itertools.repeat'>, '_bisect': <built-in function bisect_right>, '_os': <module 'os' (frozen)>, '_random': <module '_random' from '/usr/lib/python3.13/lib-dynload/_random.cpython-313-x86_64-linux-gnu.so'>, '__all__': ['Random', 'SystemRandom', 'betavariate', 'binomialvariate', 'choice', 'choices', 'expovariate', 'gammavariate', 'gauss', 'getrandbits', 'getstate', 'lognormvariate', 'normalvariate', 'paretovariate', 'randbytes', 'randint', 'random', 'randrange', 'sample', 'seed', 'setstate', 'shuffle', 'triangular', 'uniform', 'vonmisesvariate', 'weibullvariate'], 'NV_MAGICCONST': 1.7155277699214135, 'LOG4': 1.3862943611198906, 'SG_MAGICCONST': 2.504077396776274, 'BPF': 53, 'RECIP_BPF': 1.1102230246251565e-16, '_ONE': 1, '_sha512': None, 'Random': <class 'random.Random'>, 'SystemRandom': <class 'random.SystemRandom'>, '_inst': <random.Random object at 0x558aec21bad0>, 'seed': <bound method Random.seed of <random.Random object at 0x558aec21bad0>>, 'random': <built-in method random of Random object at 0x558aec21bad0>, 'uniform': <bound method Random.uniform of <random.Random object at 0x558aec21bad0>>, 'triangular': <bound method Random.triangular of <random.Random object at 0x558aec21bad0>>, 'randint': <bound method Random.randint of <random.Random object at 0x558aec21bad0>>, 'choice': <bound method Random.choice of <random.Random object at 0x558aec21bad0>>, 'randrange': <bound method Random.randrange of <random.Random object at 0x558aec21bad0>>, 'sample': <bound method Random.sample of <random.Random object at 0x558aec21bad0>>, 'shuffle': <bound method Random.shuffle of <random.Random object at 0x558aec21bad0>>, 'choices': <bound method Random.choices of <random.Random object at 0x558aec21bad0>>, 'normalvariate': <bound method Random.normalvariate of <random.Random object at 0x558aec21bad0>>, 'lognormvariate': <bound method Random.lognormvariate of <random.Random object at 0x558aec21bad0>>, 'expovariate': <bound method Random.expovariate of <random.Random object at 0x558aec21bad0>>, 'vonmisesvariate': <bound method Random.vonmisesvariate of <random.Random object at 0x558aec21bad0>>, 'gammavariate': <bound method Random.gammavariate of <random.Random object at 0x558aec21bad0>>, 'gauss': <bound method Random.gauss of <random.Random object at 0x558aec21bad0>>, 'betavariate': <bound method Random.betavariate of <random.Random object at 0x558aec21bad0>>, 'binomialvariate': <bound method Random.binomialvariate of <random.Random object at 0x558aec21bad0>>, 'paretovariate': <bound method Random.paretovariate of <random.Random object at 0x558aec21bad0>>, 'weibullvariate': <bound method Random.weibullvariate of <random.Random object at 0x558aec21bad0>>, 'getstate': <bound method Random.getstate of <random.Random object at 0x558aec21bad0>>, 'setstate': <bound method Random.setstate of <random.Random object at 0x558aec21bad0>>, 'getrandbits': <built-in method getrandbits of Random object at 0x558aec21bad0>, 'randbytes': <bound method Random.randbytes of <random.Random object at 0x558aec21bad0>>, '_test_generator': <function _test_generator at 0x7f72aecbd1c0>, '_test': <function _test at 0x7f72aecbee80>, '_parse_args': <function _parse_args at 0x7f72aecbef20>, 'main': <function main at 0x7f72aecbefc0>}\n"
     ]
    }
   ],
   "source": [
    "import random\n",
    "print(vars(random))"
   ]
  },
  {
   "cell_type": "markdown",
   "id": "22dea105",
   "metadata": {},
   "source": [
    "### to get absolute value"
   ]
  },
  {
   "cell_type": "code",
   "execution_count": 7,
   "id": "f029f964",
   "metadata": {},
   "outputs": [
    {
     "name": "stdout",
     "output_type": "stream",
     "text": [
      "7\n"
     ]
    }
   ],
   "source": [
    "d=-7\n",
    "print(abs(d))"
   ]
  },
  {
   "cell_type": "markdown",
   "id": "5194ca78",
   "metadata": {},
   "source": [
    "### to get bool value"
   ]
  },
  {
   "cell_type": "code",
   "execution_count": 8,
   "id": "cebf40b5",
   "metadata": {},
   "outputs": [],
   "source": [
    "a=10\n",
    "b=10"
   ]
  },
  {
   "cell_type": "code",
   "execution_count": 9,
   "id": "f4dd214a",
   "metadata": {},
   "outputs": [
    {
     "data": {
      "text/plain": [
       "True"
      ]
     },
     "execution_count": 9,
     "metadata": {},
     "output_type": "execute_result"
    }
   ],
   "source": [
    "a==b"
   ]
  },
  {
   "cell_type": "markdown",
   "id": "7823caaa",
   "metadata": {
    "tags": []
   },
   "source": [
    "### to find the case of the given string"
   ]
  },
  {
   "cell_type": "code",
   "execution_count": 10,
   "id": "77dc679d",
   "metadata": {},
   "outputs": [
    {
     "data": {
      "text/plain": [
       "'SAGA235'"
      ]
     },
     "execution_count": 10,
     "metadata": {},
     "output_type": "execute_result"
    }
   ],
   "source": [
    "x.upper()"
   ]
  },
  {
   "cell_type": "code",
   "execution_count": 11,
   "id": "a9b36d44",
   "metadata": {},
   "outputs": [
    {
     "data": {
      "text/plain": [
       "'saga235'"
      ]
     },
     "execution_count": 11,
     "metadata": {},
     "output_type": "execute_result"
    }
   ],
   "source": [
    "x.lower()"
   ]
  },
  {
   "cell_type": "code",
   "execution_count": 12,
   "id": "78be876b",
   "metadata": {},
   "outputs": [
    {
     "data": {
      "text/plain": [
       "True"
      ]
     },
     "execution_count": 12,
     "metadata": {},
     "output_type": "execute_result"
    }
   ],
   "source": [
    "x.islower()"
   ]
  },
  {
   "cell_type": "code",
   "execution_count": 13,
   "id": "3e566a6b",
   "metadata": {},
   "outputs": [
    {
     "data": {
      "text/plain": [
       "False"
      ]
     },
     "execution_count": 13,
     "metadata": {},
     "output_type": "execute_result"
    }
   ],
   "source": [
    "x.isupper()"
   ]
  },
  {
   "cell_type": "markdown",
   "metadata": {},
   "source": [
    "### Check if all the characters in the text is alphabetic"
   ]
  },
  {
   "cell_type": "code",
   "execution_count": 14,
   "metadata": {},
   "outputs": [
    {
     "data": {
      "text/plain": [
       "False"
      ]
     },
     "execution_count": 14,
     "metadata": {},
     "output_type": "execute_result"
    }
   ],
   "source": [
    "\"hi2@\".isalpha()"
   ]
  },
  {
   "cell_type": "markdown",
   "metadata": {},
   "source": [
    "### Check if all the characters in the text are alphanumeric:"
   ]
  },
  {
   "cell_type": "code",
   "execution_count": 15,
   "metadata": {},
   "outputs": [
    {
     "data": {
      "text/plain": [
       "True"
      ]
     },
     "execution_count": 15,
     "metadata": {},
     "output_type": "execute_result"
    }
   ],
   "source": [
    "\"hi2\".isalnum()"
   ]
  },
  {
   "cell_type": "markdown",
   "id": "13956a4c",
   "metadata": {},
   "source": [
    "### declaring list"
   ]
  },
  {
   "cell_type": "code",
   "execution_count": 16,
   "id": "480823fb",
   "metadata": {
    "tags": []
   },
   "outputs": [],
   "source": [
    "d=[1,2,5,0]\n",
    "f=[1,5,6,8]"
   ]
  },
  {
   "cell_type": "markdown",
   "id": "7938d4ac",
   "metadata": {},
   "source": [
    "### to check all element in iterable are true are false"
   ]
  },
  {
   "cell_type": "code",
   "execution_count": 17,
   "id": "a64fc49c",
   "metadata": {},
   "outputs": [
    {
     "name": "stdout",
     "output_type": "stream",
     "text": [
      "False\n",
      "True\n"
     ]
    }
   ],
   "source": [
    "print(all(d))\n",
    "print(all(f))"
   ]
  },
  {
   "cell_type": "markdown",
   "id": "91186735",
   "metadata": {},
   "source": [
    "### to check any of the element in iterable is true or false"
   ]
  },
  {
   "cell_type": "code",
   "execution_count": 18,
   "id": "bef13c92",
   "metadata": {},
   "outputs": [
    {
     "name": "stdout",
     "output_type": "stream",
     "text": [
      "True\n",
      "True\n"
     ]
    }
   ],
   "source": [
    "print(any(d))\n",
    "print(any(f))"
   ]
  },
  {
   "cell_type": "markdown",
   "id": "90d24124",
   "metadata": {},
   "source": [
    "### to check ascii value"
   ]
  },
  {
   "cell_type": "code",
   "execution_count": 19,
   "id": "e612494b",
   "metadata": {
    "tags": []
   },
   "outputs": [
    {
     "data": {
      "text/plain": [
       "\"'a'\""
      ]
     },
     "execution_count": 19,
     "metadata": {},
     "output_type": "execute_result"
    }
   ],
   "source": [
    "ascii(\"a\")"
   ]
  },
  {
   "cell_type": "markdown",
   "id": "8d431652",
   "metadata": {},
   "source": [
    "### to get the binary vale"
   ]
  },
  {
   "cell_type": "code",
   "execution_count": 20,
   "id": "94a3b1e4",
   "metadata": {},
   "outputs": [
    {
     "data": {
      "text/plain": [
       "'0b110'"
      ]
     },
     "execution_count": 20,
     "metadata": {},
     "output_type": "execute_result"
    }
   ],
   "source": [
    "bin(6)"
   ]
  },
  {
   "cell_type": "markdown",
   "id": "28ce14ca",
   "metadata": {},
   "source": [
    "### to get boolean value"
   ]
  },
  {
   "cell_type": "code",
   "execution_count": 21,
   "id": "5f4981fc",
   "metadata": {},
   "outputs": [
    {
     "data": {
      "text/plain": [
       "False"
      ]
     },
     "execution_count": 21,
     "metadata": {},
     "output_type": "execute_result"
    }
   ],
   "source": [
    "bool(d==f)"
   ]
  },
  {
   "cell_type": "markdown",
   "id": "c663f6e2",
   "metadata": {},
   "source": [
    "### to get byte value of asn object"
   ]
  },
  {
   "cell_type": "code",
   "execution_count": 22,
   "id": "c9751077",
   "metadata": {},
   "outputs": [
    {
     "data": {
      "text/plain": [
       "b'\\x00\\x00\\x00\\x00\\x00'"
      ]
     },
     "execution_count": 22,
     "metadata": {},
     "output_type": "execute_result"
    }
   ],
   "source": [
    "bytes(5)"
   ]
  },
  {
   "cell_type": "markdown",
   "id": "cf106db2",
   "metadata": {},
   "source": [
    "### to get byte value of an elements in array"
   ]
  },
  {
   "cell_type": "code",
   "execution_count": 23,
   "id": "6b5db8bf",
   "metadata": {},
   "outputs": [
    {
     "data": {
      "text/plain": [
       "bytearray(b'\\x01\\x02\\x05\\x00')"
      ]
     },
     "execution_count": 23,
     "metadata": {},
     "output_type": "execute_result"
    }
   ],
   "source": [
    "bytearray(d)"
   ]
  },
  {
   "cell_type": "markdown",
   "id": "f794de32",
   "metadata": {},
   "source": [
    "### to get the hex decimal value "
   ]
  },
  {
   "cell_type": "code",
   "execution_count": 24,
   "id": "7465b01e",
   "metadata": {},
   "outputs": [
    {
     "data": {
      "text/plain": [
       "'0x38'"
      ]
     },
     "execution_count": 24,
     "metadata": {},
     "output_type": "execute_result"
    }
   ],
   "source": [
    "hex(56)"
   ]
  },
  {
   "cell_type": "markdown",
   "id": "4aa283be",
   "metadata": {},
   "source": [
    "### to get octal value"
   ]
  },
  {
   "cell_type": "code",
   "execution_count": 25,
   "id": "0213e4ee",
   "metadata": {},
   "outputs": [
    {
     "data": {
      "text/plain": [
       "'0o74'"
      ]
     },
     "execution_count": 25,
     "metadata": {},
     "output_type": "execute_result"
    }
   ],
   "source": [
    "oct(60)"
   ]
  },
  {
   "cell_type": "markdown",
   "id": "bfb0fa07",
   "metadata": {},
   "source": [
    "### to get or convert to integer"
   ]
  },
  {
   "cell_type": "code",
   "execution_count": 26,
   "id": "3fd927ed",
   "metadata": {},
   "outputs": [
    {
     "data": {
      "text/plain": [
       "2"
      ]
     },
     "execution_count": 26,
     "metadata": {},
     "output_type": "execute_result"
    }
   ],
   "source": [
    "int(2.9)"
   ]
  },
  {
   "cell_type": "markdown",
   "id": "9c5d2150",
   "metadata": {},
   "source": [
    "### to get or convert to float"
   ]
  },
  {
   "cell_type": "code",
   "execution_count": 27,
   "id": "8d928b37",
   "metadata": {},
   "outputs": [
    {
     "data": {
      "text/plain": [
       "5.0"
      ]
     },
     "execution_count": 27,
     "metadata": {},
     "output_type": "execute_result"
    }
   ],
   "source": [
    "float(5)"
   ]
  },
  {
   "cell_type": "markdown",
   "id": "5fa5df48",
   "metadata": {},
   "source": [
    "### to cut decimal value"
   ]
  },
  {
   "cell_type": "code",
   "execution_count": 28,
   "id": "0903def0",
   "metadata": {},
   "outputs": [
    {
     "name": "stdout",
     "output_type": "stream",
     "text": [
      "2.569\n"
     ]
    }
   ],
   "source": [
    "h=2.568789\n",
    "print(round(h,3))  # round(no, digits)"
   ]
  },
  {
   "cell_type": "markdown",
   "id": "9dd3d7a3",
   "metadata": {
    "tags": []
   },
   "source": [
    "### to get or convert to string"
   ]
  },
  {
   "cell_type": "code",
   "execution_count": 29,
   "id": "742a2119",
   "metadata": {},
   "outputs": [
    {
     "data": {
      "text/plain": [
       "'5'"
      ]
     },
     "execution_count": 29,
     "metadata": {},
     "output_type": "execute_result"
    }
   ],
   "source": [
    "str(5)"
   ]
  },
  {
   "cell_type": "markdown",
   "id": "475872fd",
   "metadata": {},
   "source": [
    "### to get or convert to character"
   ]
  },
  {
   "cell_type": "code",
   "execution_count": 30,
   "id": "e660d502",
   "metadata": {},
   "outputs": [
    {
     "data": {
      "text/plain": [
       "'a'"
      ]
     },
     "execution_count": 30,
     "metadata": {},
     "output_type": "execute_result"
    }
   ],
   "source": [
    "chr(97)"
   ]
  },
  {
   "cell_type": "markdown",
   "id": "3af7142e",
   "metadata": {},
   "source": [
    "### to get order of character"
   ]
  },
  {
   "cell_type": "code",
   "execution_count": 31,
   "id": "d6e540c4",
   "metadata": {},
   "outputs": [
    {
     "data": {
      "text/plain": [
       "97"
      ]
     },
     "execution_count": 31,
     "metadata": {},
     "output_type": "execute_result"
    }
   ],
   "source": [
    "ord('a')"
   ]
  },
  {
   "cell_type": "markdown",
   "id": "81276145",
   "metadata": {},
   "source": [
    "### addition"
   ]
  },
  {
   "cell_type": "code",
   "execution_count": 32,
   "id": "0814ec50",
   "metadata": {},
   "outputs": [
    {
     "name": "stdout",
     "output_type": "stream",
     "text": [
      "[1, 2, 5, 0]\n"
     ]
    },
    {
     "data": {
      "text/plain": [
       "8"
      ]
     },
     "execution_count": 32,
     "metadata": {},
     "output_type": "execute_result"
    }
   ],
   "source": [
    "print(d)\n",
    "sum(d)"
   ]
  },
  {
   "cell_type": "markdown",
   "id": "87f32e24",
   "metadata": {},
   "source": [
    "### power multiply"
   ]
  },
  {
   "cell_type": "code",
   "execution_count": 33,
   "id": "dfc50bde",
   "metadata": {},
   "outputs": [
    {
     "data": {
      "text/plain": [
       "16"
      ]
     },
     "execution_count": 33,
     "metadata": {},
     "output_type": "execute_result"
    }
   ],
   "source": [
    "pow(2,4)   #pow(dig,pow_no)"
   ]
  },
  {
   "cell_type": "markdown",
   "id": "16a047be",
   "metadata": {},
   "source": [
    "### division"
   ]
  },
  {
   "cell_type": "code",
   "execution_count": 34,
   "id": "8f07cb2c",
   "metadata": {
    "tags": []
   },
   "outputs": [
    {
     "data": {
      "text/plain": [
       "(8, 1)"
      ]
     },
     "execution_count": 34,
     "metadata": {},
     "output_type": "execute_result"
    }
   ],
   "source": [
    "divmod(25,3) # return the quotient and the remainder"
   ]
  },
  {
   "cell_type": "markdown",
   "id": "ce12573d",
   "metadata": {},
   "source": [
    "### to get id of object or value"
   ]
  },
  {
   "cell_type": "code",
   "execution_count": 35,
   "id": "0dde8df0",
   "metadata": {},
   "outputs": [
    {
     "data": {
      "text/plain": [
       "140130061072896"
      ]
     },
     "execution_count": 35,
     "metadata": {},
     "output_type": "execute_result"
    }
   ],
   "source": [
    "id(d)"
   ]
  },
  {
   "cell_type": "markdown",
   "id": "e7345756",
   "metadata": {},
   "source": [
    "### to get memory value of bytes\n"
   ]
  },
  {
   "cell_type": "code",
   "execution_count": 36,
   "id": "faf8cc3c",
   "metadata": {},
   "outputs": [
    {
     "data": {
      "text/plain": [
       "<memory at 0x7f72a81c2980>"
      ]
     },
     "execution_count": 36,
     "metadata": {},
     "output_type": "execute_result"
    }
   ],
   "source": [
    "memoryview(bytes(4))"
   ]
  },
  {
   "cell_type": "markdown",
   "id": "34deaa3a",
   "metadata": {},
   "source": [
    "### lambda function"
   ]
  },
  {
   "cell_type": "code",
   "execution_count": null,
   "id": "5ba72a68",
   "metadata": {},
   "outputs": [],
   "source": [
    "e=lambda j,r: r*j*3.14\n",
    "print(e(3,6))"
   ]
  },
  {
   "cell_type": "markdown",
   "id": "8462f310",
   "metadata": {},
   "source": [
    "### filter function"
   ]
  },
  {
   "cell_type": "code",
   "execution_count": null,
   "id": "32af18e5",
   "metadata": {},
   "outputs": [],
   "source": [
    "d"
   ]
  },
  {
   "cell_type": "code",
   "execution_count": null,
   "id": "c23ce574",
   "metadata": {
    "tags": []
   },
   "outputs": [],
   "source": [
    "w=filter((lambda x: x<=4) ,d)\n",
    "print(list(w))"
   ]
  },
  {
   "cell_type": "markdown",
   "id": "c106ab0e",
   "metadata": {},
   "source": [
    "### slice function"
   ]
  },
  {
   "cell_type": "code",
   "execution_count": null,
   "id": "3bd6d05e",
   "metadata": {},
   "outputs": [],
   "source": [
    "d[slice(3)]"
   ]
  },
  {
   "cell_type": "markdown",
   "id": "724afef8",
   "metadata": {},
   "source": [
    "### map function"
   ]
  },
  {
   "cell_type": "code",
   "execution_count": null,
   "id": "b08b3fbb",
   "metadata": {},
   "outputs": [],
   "source": [
    "q=map(lambda t: t*2,d)"
   ]
  },
  {
   "cell_type": "code",
   "execution_count": null,
   "id": "131a524c",
   "metadata": {},
   "outputs": [],
   "source": [
    "list(q)"
   ]
  },
  {
   "cell_type": "code",
   "execution_count": null,
   "id": "1af7f4bc",
   "metadata": {},
   "outputs": [],
   "source": [
    "d"
   ]
  },
  {
   "cell_type": "markdown",
   "id": "5bc19926",
   "metadata": {},
   "source": [
    "### zip function"
   ]
  },
  {
   "cell_type": "code",
   "execution_count": null,
   "id": "44f3e285",
   "metadata": {},
   "outputs": [],
   "source": [
    "k=zip(d,f)"
   ]
  },
  {
   "cell_type": "code",
   "execution_count": null,
   "id": "5d3d9315",
   "metadata": {},
   "outputs": [],
   "source": [
    "print(list(k))"
   ]
  },
  {
   "cell_type": "markdown",
   "id": "ac07ae36",
   "metadata": {
    "jupyter": {
     "source_hidden": true
    },
    "tags": []
   },
   "source": [
    "### format"
   ]
  },
  {
   "cell_type": "code",
   "execution_count": 37,
   "id": "a090053a",
   "metadata": {},
   "outputs": [
    {
     "name": "stdout",
     "output_type": "stream",
     "text": [
      "saga235 hello  hari 158\n",
      "saga235 hello hari 158\n"
     ]
    }
   ],
   "source": [
    "print(x,\"hello \",\"hari\" , 63+95)\n",
    "print(\"{} hello hari {}\".format(x,63+95))"
   ]
  },
  {
   "cell_type": "code",
   "execution_count": 38,
   "id": "49833c08",
   "metadata": {},
   "outputs": [
    {
     "data": {
      "text/plain": [
       "'saga235 : hello hari : how are you'"
      ]
     },
     "execution_count": 38,
     "metadata": {},
     "output_type": "execute_result"
    }
   ],
   "source": [
    "\"{} : hello {} : how are you\".format(x, \"hari\")"
   ]
  },
  {
   "cell_type": "code",
   "execution_count": 4,
   "id": "937d3eb1",
   "metadata": {},
   "outputs": [
    {
     "name": "stdout",
     "output_type": "stream",
     "text": [
      "<class 'str'>\n"
     ]
    }
   ],
   "source": [
    "w=\"print(pow(2,4))\"\n",
    "print(type(w))\n",
    "exec(w)  # \\ was used to escape the the string."
   ]
  },
  {
   "cell_type": "code",
   "execution_count": 39,
   "id": "1731892b",
   "metadata": {},
   "outputs": [
    {
     "name": "stdout",
     "output_type": "stream",
     "text": [
      "saga235 hello hari 132\n"
     ]
    }
   ],
   "source": [
    "print(f\"{x} hello hari {63+69}\")"
   ]
  },
  {
   "cell_type": "code",
   "execution_count": null,
   "id": "8e1271c9",
   "metadata": {},
   "outputs": [],
   "source": []
  }
 ],
 "metadata": {
  "kernelspec": {
   "display_name": "Python 3",
   "language": "python",
   "name": "python3"
  },
  "language_info": {
   "codemirror_mode": {
    "name": "ipython",
    "version": 3
   },
   "file_extension": ".py",
   "mimetype": "text/x-python",
   "name": "python",
   "nbconvert_exporter": "python",
   "pygments_lexer": "ipython3",
   "version": "3.13.3"
  }
 },
 "nbformat": 4,
 "nbformat_minor": 5
}
