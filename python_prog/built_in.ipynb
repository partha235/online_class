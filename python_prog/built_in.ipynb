{
 "cells": [
  {
   "cell_type": "markdown",
   "id": "c292950c",
   "metadata": {},
   "source": [
    "# python built-in function"
   ]
  },
  {
   "cell_type": "code",
   "execution_count": null,
   "id": "ab8b1c28",
   "metadata": {},
   "outputs": [],
   "source": [
    "a=10.5"
   ]
  },
  {
   "cell_type": "markdown",
   "id": "96c19410",
   "metadata": {
    "tags": []
   },
   "source": [
    "### to find the type of an object"
   ]
  },
  {
   "cell_type": "code",
   "execution_count": null,
   "id": "d3ad43ea",
   "metadata": {},
   "outputs": [],
   "source": [
    "print(type(a))\n",
    "print(type(\"saga\"))\n",
    "print(type(\"\\0b1\"))"
   ]
  },
  {
   "cell_type": "markdown",
   "id": "04059731",
   "metadata": {},
   "source": [
    "### to find the length of the string"
   ]
  },
  {
   "cell_type": "code",
   "execution_count": 1,
   "id": "e4bc8374",
   "metadata": {},
   "outputs": [
    {
     "data": {
      "text/plain": [
       "7"
      ]
     },
     "execution_count": 1,
     "metadata": {},
     "output_type": "execute_result"
    }
   ],
   "source": [
    "x=\"saga235\"\n",
    "len(x)"
   ]
  },
  {
   "cell_type": "code",
   "execution_count": null,
   "id": "a55d01e7",
   "metadata": {},
   "outputs": [],
   "source": [
    "e=[5,6,8,3]\n",
    "len(e)"
   ]
  },
  {
   "cell_type": "markdown",
   "id": "5bcb5564",
   "metadata": {},
   "source": [
    "### to find the directory of object "
   ]
  },
  {
   "cell_type": "code",
   "execution_count": null,
   "id": "acf3033d",
   "metadata": {
    "collapsed": true,
    "jupyter": {
     "outputs_hidden": true
    },
    "tags": []
   },
   "outputs": [],
   "source": [
    "dir(x)"
   ]
  },
  {
   "cell_type": "markdown",
   "id": "0a1c79c6",
   "metadata": {},
   "source": [
    "### to get __dict__ attribute of an object"
   ]
  },
  {
   "cell_type": "code",
   "execution_count": null,
   "id": "564f5e88",
   "metadata": {
    "collapsed": true,
    "jupyter": {
     "outputs_hidden": true
    },
    "tags": []
   },
   "outputs": [],
   "source": [
    "import random\n",
    "print(vars(random))"
   ]
  },
  {
   "cell_type": "markdown",
   "id": "22dea105",
   "metadata": {},
   "source": [
    "### to get absolute value"
   ]
  },
  {
   "cell_type": "code",
   "execution_count": null,
   "id": "f029f964",
   "metadata": {},
   "outputs": [],
   "source": [
    "d=-7\n",
    "print(abs(d))"
   ]
  },
  {
   "cell_type": "markdown",
   "id": "5194ca78",
   "metadata": {},
   "source": [
    "### to get bool value"
   ]
  },
  {
   "cell_type": "code",
   "execution_count": null,
   "id": "cebf40b5",
   "metadata": {},
   "outputs": [],
   "source": [
    "a=10\n",
    "b=10"
   ]
  },
  {
   "cell_type": "code",
   "execution_count": null,
   "id": "f4dd214a",
   "metadata": {},
   "outputs": [],
   "source": [
    "a!=b"
   ]
  },
  {
   "cell_type": "markdown",
   "id": "7823caaa",
   "metadata": {
    "tags": []
   },
   "source": [
    "### to find the case of the given string"
   ]
  },
  {
   "cell_type": "code",
   "execution_count": 13,
   "id": "77dc679d",
   "metadata": {},
   "outputs": [],
   "source": [
    "x.upper()"
   ]
  },
  {
   "cell_type": "code",
   "execution_count": 3,
   "id": "a9b36d44",
   "metadata": {},
   "outputs": [
    {
     "data": {
      "text/plain": [
       "'saga235'"
      ]
     },
     "execution_count": 3,
     "metadata": {},
     "output_type": "execute_result"
    }
   ],
   "source": [
    "x.lower()"
   ]
  },
  {
   "cell_type": "code",
   "execution_count": 11,
   "id": "78be876b",
   "metadata": {},
   "outputs": [
    {
     "data": {
      "text/plain": [
       "False"
      ]
     },
     "execution_count": 11,
     "metadata": {},
     "output_type": "execute_result"
    }
   ],
   "source": [
    "x.islower()"
   ]
  },
  {
   "cell_type": "code",
   "execution_count": 10,
   "id": "3e566a6b",
   "metadata": {},
   "outputs": [
    {
     "data": {
      "text/plain": [
       "True"
      ]
     },
     "execution_count": 10,
     "metadata": {},
     "output_type": "execute_result"
    }
   ],
   "source": [
    "x.isupper()"
   ]
  },
  {
   "cell_type": "markdown",
   "metadata": {},
   "source": [
    "### Check if all the characters in the text is alphabetic"
   ]
  },
  {
   "cell_type": "code",
   "execution_count": 1,
   "metadata": {},
   "outputs": [
    {
     "data": {
      "text/plain": [
       "False"
      ]
     },
     "execution_count": 1,
     "metadata": {},
     "output_type": "execute_result"
    }
   ],
   "source": [
    "\"hi2@\".isalpha()"
   ]
  },
  {
   "cell_type": "markdown",
   "metadata": {},
   "source": [
    "### Check if all the characters in the text are alphanumeric:"
   ]
  },
  {
   "cell_type": "code",
   "execution_count": 2,
   "metadata": {},
   "outputs": [
    {
     "data": {
      "text/plain": [
       "True"
      ]
     },
     "execution_count": 2,
     "metadata": {},
     "output_type": "execute_result"
    }
   ],
   "source": [
    "\"hi2\".isalnum()"
   ]
  },
  {
   "cell_type": "markdown",
   "id": "13956a4c",
   "metadata": {},
   "source": [
    "### declaring list"
   ]
  },
  {
   "cell_type": "code",
   "execution_count": 14,
   "id": "480823fb",
   "metadata": {
    "tags": []
   },
   "outputs": [],
   "source": [
    "d=[1,2,5,0]\n",
    "f=[1,5,6,8]"
   ]
  },
  {
   "cell_type": "markdown",
   "id": "7938d4ac",
   "metadata": {},
   "source": [
    "### to check all element in iterable are true are false"
   ]
  },
  {
   "cell_type": "code",
   "execution_count": null,
   "id": "a64fc49c",
   "metadata": {},
   "outputs": [],
   "source": [
    "print(all(d))\n",
    "print(all(f))"
   ]
  },
  {
   "cell_type": "markdown",
   "id": "91186735",
   "metadata": {},
   "source": [
    "### to check any of the element in iterable is true or false"
   ]
  },
  {
   "cell_type": "code",
   "execution_count": null,
   "id": "bef13c92",
   "metadata": {},
   "outputs": [],
   "source": [
    "print(any(d))\n",
    "print(any(f))"
   ]
  },
  {
   "cell_type": "markdown",
   "id": "90d24124",
   "metadata": {},
   "source": [
    "### to check ascii value"
   ]
  },
  {
   "cell_type": "code",
   "execution_count": null,
   "id": "e612494b",
   "metadata": {
    "tags": []
   },
   "outputs": [],
   "source": [
    "ascii(\"a\")"
   ]
  },
  {
   "cell_type": "markdown",
   "id": "8d431652",
   "metadata": {},
   "source": [
    "### to get the binary vale"
   ]
  },
  {
   "cell_type": "code",
   "execution_count": null,
   "id": "94a3b1e4",
   "metadata": {},
   "outputs": [],
   "source": [
    "bin(6)"
   ]
  },
  {
   "cell_type": "markdown",
   "id": "28ce14ca",
   "metadata": {},
   "source": [
    "### to get boolean value"
   ]
  },
  {
   "cell_type": "code",
   "execution_count": 17,
   "id": "5f4981fc",
   "metadata": {},
   "outputs": [
    {
     "data": {
      "text/plain": [
       "True"
      ]
     },
     "execution_count": 17,
     "metadata": {},
     "output_type": "execute_result"
    }
   ],
   "source": [
    "bool(d==f)"
   ]
  },
  {
   "cell_type": "markdown",
   "id": "c663f6e2",
   "metadata": {},
   "source": [
    "### to get byte value of asn object"
   ]
  },
  {
   "cell_type": "code",
   "execution_count": null,
   "id": "c9751077",
   "metadata": {},
   "outputs": [],
   "source": [
    "bytes(5)"
   ]
  },
  {
   "cell_type": "markdown",
   "id": "cf106db2",
   "metadata": {},
   "source": [
    "### to get byte value of an elements in array"
   ]
  },
  {
   "cell_type": "code",
   "execution_count": null,
   "id": "6b5db8bf",
   "metadata": {},
   "outputs": [],
   "source": [
    "bytearray(d)"
   ]
  },
  {
   "cell_type": "markdown",
   "id": "f794de32",
   "metadata": {},
   "source": [
    "### to get the hex decimal value "
   ]
  },
  {
   "cell_type": "code",
   "execution_count": null,
   "id": "7465b01e",
   "metadata": {},
   "outputs": [],
   "source": [
    "hex(56)"
   ]
  },
  {
   "cell_type": "markdown",
   "id": "4aa283be",
   "metadata": {},
   "source": [
    "### to get octal value"
   ]
  },
  {
   "cell_type": "code",
   "execution_count": null,
   "id": "0213e4ee",
   "metadata": {},
   "outputs": [],
   "source": [
    "oct(60)"
   ]
  },
  {
   "cell_type": "markdown",
   "id": "bfb0fa07",
   "metadata": {},
   "source": [
    "### to get or convert to integer"
   ]
  },
  {
   "cell_type": "code",
   "execution_count": 19,
   "id": "3fd927ed",
   "metadata": {},
   "outputs": [
    {
     "data": {
      "text/plain": [
       "2"
      ]
     },
     "execution_count": 19,
     "metadata": {},
     "output_type": "execute_result"
    }
   ],
   "source": [
    "int(2.9)"
   ]
  },
  {
   "cell_type": "markdown",
   "id": "9c5d2150",
   "metadata": {},
   "source": [
    "### to get or convert to float"
   ]
  },
  {
   "cell_type": "code",
   "execution_count": 20,
   "id": "8d928b37",
   "metadata": {},
   "outputs": [
    {
     "data": {
      "text/plain": [
       "5.0"
      ]
     },
     "execution_count": 20,
     "metadata": {},
     "output_type": "execute_result"
    }
   ],
   "source": [
    "float(5)"
   ]
  },
  {
   "cell_type": "markdown",
   "id": "5fa5df48",
   "metadata": {},
   "source": [
    "### to cut decimal value"
   ]
  },
  {
   "cell_type": "code",
   "execution_count": 21,
   "id": "0903def0",
   "metadata": {},
   "outputs": [
    {
     "name": "stdout",
     "output_type": "stream",
     "text": [
      "2.569\n"
     ]
    }
   ],
   "source": [
    "h=2.568789\n",
    "print(round(h,3))  # round(no, digits)"
   ]
  },
  {
   "cell_type": "markdown",
   "id": "9dd3d7a3",
   "metadata": {
    "tags": []
   },
   "source": [
    "### to get or convert to string"
   ]
  },
  {
   "cell_type": "code",
   "execution_count": 22,
   "id": "742a2119",
   "metadata": {},
   "outputs": [
    {
     "data": {
      "text/plain": [
       "'5'"
      ]
     },
     "execution_count": 22,
     "metadata": {},
     "output_type": "execute_result"
    }
   ],
   "source": [
    "str(5)"
   ]
  },
  {
   "cell_type": "markdown",
   "id": "475872fd",
   "metadata": {},
   "source": [
    "### to get or convert to character"
   ]
  },
  {
   "cell_type": "code",
   "execution_count": null,
   "id": "e660d502",
   "metadata": {},
   "outputs": [],
   "source": [
    "chr(97)"
   ]
  },
  {
   "cell_type": "markdown",
   "id": "3af7142e",
   "metadata": {},
   "source": [
    "### to get order of character"
   ]
  },
  {
   "cell_type": "code",
   "execution_count": null,
   "id": "d6e540c4",
   "metadata": {},
   "outputs": [],
   "source": [
    "ord('a')"
   ]
  },
  {
   "cell_type": "markdown",
   "id": "81276145",
   "metadata": {},
   "source": [
    "### addition"
   ]
  },
  {
   "cell_type": "code",
   "execution_count": 24,
   "id": "0814ec50",
   "metadata": {},
   "outputs": [
    {
     "name": "stdout",
     "output_type": "stream",
     "text": [
      "[1, 2, 5, 0]\n"
     ]
    },
    {
     "data": {
      "text/plain": [
       "8"
      ]
     },
     "execution_count": 24,
     "metadata": {},
     "output_type": "execute_result"
    }
   ],
   "source": [
    "print(d)\n",
    "sum(d)"
   ]
  },
  {
   "cell_type": "markdown",
   "id": "87f32e24",
   "metadata": {},
   "source": [
    "### power multiply"
   ]
  },
  {
   "cell_type": "code",
   "execution_count": 25,
   "id": "dfc50bde",
   "metadata": {},
   "outputs": [
    {
     "data": {
      "text/plain": [
       "16"
      ]
     },
     "execution_count": 25,
     "metadata": {},
     "output_type": "execute_result"
    }
   ],
   "source": [
    "pow(2,4)   #pow(dig,pow_no)"
   ]
  },
  {
   "cell_type": "markdown",
   "id": "16a047be",
   "metadata": {},
   "source": [
    "### division"
   ]
  },
  {
   "cell_type": "code",
   "execution_count": 26,
   "id": "8f07cb2c",
   "metadata": {
    "tags": []
   },
   "outputs": [
    {
     "data": {
      "text/plain": [
       "(8, 1)"
      ]
     },
     "execution_count": 26,
     "metadata": {},
     "output_type": "execute_result"
    }
   ],
   "source": [
    "divmod(25,3) # return the quotient and the remainder"
   ]
  },
  {
   "cell_type": "markdown",
   "id": "ce12573d",
   "metadata": {},
   "source": [
    "### to get id of object or value"
   ]
  },
  {
   "cell_type": "code",
   "execution_count": 27,
   "id": "0dde8df0",
   "metadata": {},
   "outputs": [
    {
     "data": {
      "text/plain": [
       "139684487798272"
      ]
     },
     "execution_count": 27,
     "metadata": {},
     "output_type": "execute_result"
    }
   ],
   "source": [
    "id(d)"
   ]
  },
  {
   "cell_type": "markdown",
   "id": "e7345756",
   "metadata": {},
   "source": [
    "### to get memory value of bytes\n"
   ]
  },
  {
   "cell_type": "code",
   "execution_count": null,
   "id": "faf8cc3c",
   "metadata": {},
   "outputs": [],
   "source": [
    "memoryview(bytes(4))"
   ]
  },
  {
   "cell_type": "markdown",
   "id": "34deaa3a",
   "metadata": {},
   "source": [
    "### lambda function"
   ]
  },
  {
   "cell_type": "code",
   "execution_count": 28,
   "id": "5ba72a68",
   "metadata": {},
   "outputs": [
    {
     "name": "stdout",
     "output_type": "stream",
     "text": [
      "56.52\n"
     ]
    }
   ],
   "source": [
    "e=lambda j,r: r*j*3.14\n",
    "print(e(3,6))"
   ]
  },
  {
   "cell_type": "markdown",
   "id": "8462f310",
   "metadata": {},
   "source": [
    "### filter function"
   ]
  },
  {
   "cell_type": "code",
   "execution_count": 29,
   "id": "32af18e5",
   "metadata": {},
   "outputs": [
    {
     "data": {
      "text/plain": [
       "[1, 2, 5, 0]"
      ]
     },
     "execution_count": 29,
     "metadata": {},
     "output_type": "execute_result"
    }
   ],
   "source": [
    "d"
   ]
  },
  {
   "cell_type": "code",
   "execution_count": 30,
   "id": "c23ce574",
   "metadata": {
    "tags": []
   },
   "outputs": [
    {
     "name": "stdout",
     "output_type": "stream",
     "text": [
      "[1, 2, 0]\n"
     ]
    }
   ],
   "source": [
    "w=filter((lambda x: x<=4) ,d)\n",
    "print(list(w))"
   ]
  },
  {
   "cell_type": "markdown",
   "id": "c106ab0e",
   "metadata": {},
   "source": [
    "### slice function"
   ]
  },
  {
   "cell_type": "code",
   "execution_count": 31,
   "id": "3bd6d05e",
   "metadata": {},
   "outputs": [
    {
     "data": {
      "text/plain": [
       "[1, 2, 5]"
      ]
     },
     "execution_count": 31,
     "metadata": {},
     "output_type": "execute_result"
    }
   ],
   "source": [
    "d[slice(3)]"
   ]
  },
  {
   "cell_type": "markdown",
   "id": "724afef8",
   "metadata": {},
   "source": [
    "### map function"
   ]
  },
  {
   "cell_type": "code",
   "execution_count": 32,
   "id": "b08b3fbb",
   "metadata": {},
   "outputs": [],
   "source": [
    "q=map(lambda t: t*2,d)"
   ]
  },
  {
   "cell_type": "code",
   "execution_count": 33,
   "id": "131a524c",
   "metadata": {},
   "outputs": [
    {
     "data": {
      "text/plain": [
       "[2, 4, 10, 0]"
      ]
     },
     "execution_count": 33,
     "metadata": {},
     "output_type": "execute_result"
    }
   ],
   "source": [
    "list(q)"
   ]
  },
  {
   "cell_type": "code",
   "execution_count": 34,
   "id": "1af7f4bc",
   "metadata": {},
   "outputs": [
    {
     "data": {
      "text/plain": [
       "[1, 2, 5, 0]"
      ]
     },
     "execution_count": 34,
     "metadata": {},
     "output_type": "execute_result"
    }
   ],
   "source": [
    "d"
   ]
  },
  {
   "cell_type": "markdown",
   "id": "5bc19926",
   "metadata": {},
   "source": [
    "### zip function"
   ]
  },
  {
   "cell_type": "code",
   "execution_count": 35,
   "id": "44f3e285",
   "metadata": {},
   "outputs": [],
   "source": [
    "k=zip(d,f)"
   ]
  },
  {
   "cell_type": "code",
   "execution_count": 36,
   "id": "5d3d9315",
   "metadata": {},
   "outputs": [
    {
     "name": "stdout",
     "output_type": "stream",
     "text": [
      "[(1, 1), (2, 5), (5, 6), (0, 8)]\n"
     ]
    }
   ],
   "source": [
    "print(list(k))"
   ]
  },
  {
   "cell_type": "markdown",
   "id": "ac07ae36",
   "metadata": {
    "jupyter": {
     "source_hidden": true
    },
    "tags": []
   },
   "source": [
    "### format"
   ]
  },
  {
   "cell_type": "code",
   "execution_count": null,
   "id": "a090053a",
   "metadata": {},
   "outputs": [],
   "source": [
    "print(x,\"hello \",\"hari\" , 63+95)\n",
    "print(\"{} hello hari {}\".format(x,63+95))"
   ]
  },
  {
   "cell_type": "code",
   "execution_count": 37,
   "id": "49833c08",
   "metadata": {},
   "outputs": [
    {
     "data": {
      "text/plain": [
       "'SAGA235 : hello hari : how are you'"
      ]
     },
     "execution_count": 37,
     "metadata": {},
     "output_type": "execute_result"
    }
   ],
   "source": [
    "\"{} : hello {} : how are you\".format(x, \"hari\")"
   ]
  },
  {
   "cell_type": "code",
   "execution_count": 38,
   "id": "937d3eb1",
   "metadata": {},
   "outputs": [
    {
     "name": "stdout",
     "output_type": "stream",
     "text": [
      "<class 'str'>\n",
      "16\n"
     ]
    }
   ],
   "source": [
    "w=\"print(pow(2,4))\"\n",
    "print(type(w))\n",
    "exec(w)  # \\ was used to escape the the string."
   ]
  },
  {
   "cell_type": "code",
   "execution_count": null,
   "id": "1731892b",
   "metadata": {},
   "outputs": [],
   "source": []
  }
 ],
 "metadata": {
  "kernelspec": {
   "display_name": "Python 3 (ipykernel)",
   "language": "python",
   "name": "python3"
  },
  "language_info": {
   "codemirror_mode": {
    "name": "ipython",
    "version": 3
   },
   "file_extension": ".py",
   "mimetype": "text/x-python",
   "name": "python",
   "nbconvert_exporter": "python",
   "pygments_lexer": "ipython3",
   "version": "3.11.8"
  },
  "vscode": {
   "interpreter": {
    "hash": "b09ec625f77bf4fd762565a912b97636504ad6ec901eb2d0f4cf5a7de23e1ee5"
   }
  }
 },
 "nbformat": 4,
 "nbformat_minor": 5
}
