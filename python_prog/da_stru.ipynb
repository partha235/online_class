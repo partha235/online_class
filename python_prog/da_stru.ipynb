{
 "cells": [
  {
   "cell_type": "markdown",
   "id": "658d7fed",
   "metadata": {},
   "source": [
    " # ***Data structure***"
   ]
  },
  {
   "cell_type": "markdown",
   "id": "527e730b",
   "metadata": {},
   "source": [
    "##  List "
   ]
  },
  {
   "cell_type": "code",
   "execution_count": null,
   "id": "6d476a02",
   "metadata": {},
   "outputs": [],
   "source": [
    "x=[2,3,5,6,23,56,7,8]  #iterable, mutable  "
   ]
  },
  {
   "cell_type": "code",
   "execution_count": null,
   "id": "219fe234",
   "metadata": {},
   "outputs": [],
   "source": [
    "type(x)"
   ]
  },
  {
   "cell_type": "markdown",
   "id": "1e85aca6",
   "metadata": {},
   "source": [
    "### to add an element"
   ]
  },
  {
   "cell_type": "code",
   "execution_count": null,
   "id": "374b91ec",
   "metadata": {},
   "outputs": [],
   "source": [
    "x.append(9)\n",
    "print(x)"
   ]
  },
  {
   "cell_type": "markdown",
   "id": "b64dcd32",
   "metadata": {},
   "source": [
    "#### to insert another list"
   ]
  },
  {
   "cell_type": "code",
   "execution_count": null,
   "id": "8a3ef6cd",
   "metadata": {},
   "outputs": [],
   "source": [
    "d=[10,12,15,13]\n",
    "x.extend(d)\n",
    "print(x)"
   ]
  },
  {
   "cell_type": "markdown",
   "id": "bb0dcf20",
   "metadata": {},
   "source": [
    "#### to insert an element particular place"
   ]
  },
  {
   "cell_type": "code",
   "execution_count": null,
   "id": "9078b7d2",
   "metadata": {},
   "outputs": [],
   "source": [
    "x.insert(3,20)  # insert(position,element)\n",
    "print(x)"
   ]
  },
  {
   "cell_type": "markdown",
   "id": "e3d8580c",
   "metadata": {},
   "source": [
    "#### to remove an element"
   ]
  },
  {
   "cell_type": "code",
   "execution_count": null,
   "id": "c599001f",
   "metadata": {},
   "outputs": [],
   "source": [
    "x.remove(20)\n",
    "print(x)"
   ]
  },
  {
   "cell_type": "markdown",
   "id": "4389593d",
   "metadata": {},
   "source": [
    "#### to remove last element"
   ]
  },
  {
   "cell_type": "code",
   "execution_count": null,
   "id": "67e344bc",
   "metadata": {},
   "outputs": [],
   "source": [
    "x.pop()\n",
    "print(x)"
   ]
  },
  {
   "cell_type": "markdown",
   "id": "30bf12cd",
   "metadata": {},
   "source": [
    "#### to delete all element in a list"
   ]
  },
  {
   "cell_type": "code",
   "execution_count": null,
   "id": "83828442",
   "metadata": {},
   "outputs": [],
   "source": [
    "c=[1,2,3,4,5,6]\n",
    "c.clear()\n",
    "print(c)"
   ]
  },
  {
   "cell_type": "markdown",
   "id": "2b58a4ea",
   "metadata": {},
   "source": [
    "### to find index of number"
   ]
  },
  {
   "cell_type": "code",
   "execution_count": null,
   "id": "c739426a",
   "metadata": {},
   "outputs": [],
   "source": [
    "x.index(15)"
   ]
  },
  {
   "cell_type": "markdown",
   "id": "8fdac020",
   "metadata": {},
   "source": [
    "#### to arrange it"
   ]
  },
  {
   "cell_type": "code",
   "execution_count": null,
   "id": "d6998c01",
   "metadata": {},
   "outputs": [],
   "source": [
    "x.sort()  #ascending \n",
    "print(x)"
   ]
  },
  {
   "cell_type": "code",
   "execution_count": null,
   "id": "55bb455c",
   "metadata": {},
   "outputs": [],
   "source": [
    "x.sort(reverse=True) # descending\n",
    "print(x)"
   ]
  },
  {
   "cell_type": "markdown",
   "id": "5f35414b",
   "metadata": {},
   "source": [
    "#### to count the element"
   ]
  },
  {
   "cell_type": "code",
   "execution_count": null,
   "id": "dbe1ceec",
   "metadata": {
    "tags": []
   },
   "outputs": [],
   "source": [
    "x.append(9)\n",
    "print(x)"
   ]
  },
  {
   "cell_type": "code",
   "execution_count": null,
   "id": "a269e469",
   "metadata": {},
   "outputs": [],
   "source": [
    "x.count(9)"
   ]
  },
  {
   "cell_type": "markdown",
   "id": "04cf0b48",
   "metadata": {},
   "source": [
    "### to copy the list"
   ]
  },
  {
   "cell_type": "code",
   "execution_count": null,
   "id": "f63067a2",
   "metadata": {},
   "outputs": [],
   "source": [
    "f=x.copy()\n",
    "print(f)"
   ]
  },
  {
   "cell_type": "markdown",
   "id": "b83738a4",
   "metadata": {},
   "source": [
    "#### delete an element"
   ]
  },
  {
   "cell_type": "code",
   "execution_count": null,
   "id": "10d8b241",
   "metadata": {},
   "outputs": [],
   "source": [
    "del f[5]   # single element\n",
    "print(f)"
   ]
  },
  {
   "cell_type": "code",
   "execution_count": null,
   "id": "b6b8df1e",
   "metadata": {},
   "outputs": [],
   "source": [
    "del f[2:4]  # group element\n",
    "print(f)"
   ]
  },
  {
   "cell_type": "code",
   "execution_count": null,
   "id": "ceaa7110",
   "metadata": {},
   "outputs": [],
   "source": [
    "del f[:5]  # first part\n",
    "print(f)"
   ]
  },
  {
   "cell_type": "code",
   "execution_count": null,
   "id": "6866544f",
   "metadata": {},
   "outputs": [],
   "source": [
    "del f[:]    # fully\n",
    "print(f)"
   ]
  },
  {
   "cell_type": "code",
   "execution_count": null,
   "id": "94be8653",
   "metadata": {},
   "outputs": [],
   "source": [
    "x.clear()\n",
    "print(x)"
   ]
  },
  {
   "cell_type": "markdown",
   "id": "fca2f852",
   "metadata": {},
   "source": [
    "## tuples"
   ]
  },
  {
   "cell_type": "code",
   "execution_count": null,
   "id": "04a98960",
   "metadata": {},
   "outputs": [],
   "source": [
    "j=(1,2,3,4,8,9,5)   # immutable \n",
    "print(type(j))"
   ]
  },
  {
   "cell_type": "markdown",
   "id": "f4d35432",
   "metadata": {},
   "source": [
    "### to get a value at place"
   ]
  },
  {
   "cell_type": "code",
   "execution_count": null,
   "id": "632836a6",
   "metadata": {},
   "outputs": [],
   "source": [
    "print( j[4])"
   ]
  },
  {
   "cell_type": "markdown",
   "id": "eb76b3cd",
   "metadata": {},
   "source": [
    "### convert tuple to list"
   ]
  },
  {
   "cell_type": "code",
   "execution_count": null,
   "id": "36175ff5",
   "metadata": {
    "jupyter": {
     "source_hidden": true
    },
    "tags": []
   },
   "outputs": [],
   "source": [
    "e=list(j)\n",
    "print(type(e))\n",
    "print(e)"
   ]
  },
  {
   "cell_type": "code",
   "execution_count": null,
   "id": "b5bf3163",
   "metadata": {},
   "outputs": [],
   "source": [
    "e.sort()\n",
    "print(e)"
   ]
  },
  {
   "cell_type": "markdown",
   "id": "5b48f102",
   "metadata": {},
   "source": [
    "#### convert list to tuple"
   ]
  },
  {
   "cell_type": "code",
   "execution_count": null,
   "id": "5d61d019",
   "metadata": {},
   "outputs": [],
   "source": [
    "h=tuple(e)\n",
    "print(type(h))\n",
    "print(h)"
   ]
  },
  {
   "cell_type": "markdown",
   "id": "5790e042",
   "metadata": {},
   "source": [
    "## set"
   ]
  },
  {
   "cell_type": "code",
   "execution_count": null,
   "id": "8d4db9ca",
   "metadata": {},
   "outputs": [],
   "source": [
    "t={1,2,3,6,4}  #immutable\n",
    "print(type(t))"
   ]
  },
  {
   "cell_type": "code",
   "execution_count": null,
   "id": "da5b4b3d",
   "metadata": {},
   "outputs": [],
   "source": [
    "a=set('mathes')\n",
    "b=set('hari')\n",
    "print(a)   # print the unique letters\n",
    "print(b)"
   ]
  },
  {
   "cell_type": "markdown",
   "id": "024131cc",
   "metadata": {},
   "source": [
    "#### letters in a not in b"
   ]
  },
  {
   "cell_type": "code",
   "execution_count": null,
   "id": "510dfd58",
   "metadata": {},
   "outputs": [],
   "source": [
    "a-b"
   ]
  },
  {
   "cell_type": "markdown",
   "id": "e494f38a",
   "metadata": {},
   "source": [
    "#### letters in b not in a"
   ]
  },
  {
   "cell_type": "code",
   "execution_count": null,
   "id": "535892fd",
   "metadata": {},
   "outputs": [],
   "source": [
    "b-a"
   ]
  },
  {
   "cell_type": "markdown",
   "id": "1a37b90e",
   "metadata": {},
   "source": [
    "#### letters in a or b or both"
   ]
  },
  {
   "cell_type": "code",
   "execution_count": null,
   "id": "a5030ae5",
   "metadata": {},
   "outputs": [],
   "source": [
    "a|b"
   ]
  },
  {
   "cell_type": "markdown",
   "id": "ec62d496",
   "metadata": {},
   "source": [
    "#### common letters in a & b"
   ]
  },
  {
   "cell_type": "code",
   "execution_count": null,
   "id": "4093da91",
   "metadata": {},
   "outputs": [],
   "source": [
    "a&b"
   ]
  },
  {
   "cell_type": "markdown",
   "id": "a780ec00",
   "metadata": {},
   "source": [
    "#### uncommon letters"
   ]
  },
  {
   "cell_type": "code",
   "execution_count": null,
   "id": "1b5e0e83",
   "metadata": {},
   "outputs": [],
   "source": [
    "a^b"
   ]
  },
  {
   "cell_type": "markdown",
   "id": "339e27a0",
   "metadata": {},
   "source": [
    "## dictionaries"
   ]
  },
  {
   "cell_type": "code",
   "execution_count": null,
   "id": "a356701e",
   "metadata": {},
   "outputs": [],
   "source": [
    "u={\"first\":1}  # mutable\n",
    "print(type(u))"
   ]
  },
  {
   "cell_type": "code",
   "execution_count": null,
   "id": "7e253083",
   "metadata": {},
   "outputs": [],
   "source": [
    "i={\"subbu\":95,\"mathesh\":45,\"nithish\":89,\"nishanth\":50}"
   ]
  },
  {
   "cell_type": "code",
   "execution_count": null,
   "id": "10375c5a",
   "metadata": {},
   "outputs": [],
   "source": [
    "i[\"subbu\"]"
   ]
  },
  {
   "cell_type": "code",
   "execution_count": null,
   "id": "93a44ec4",
   "metadata": {},
   "outputs": [],
   "source": [
    "i[\"nithish\"]"
   ]
  },
  {
   "cell_type": "code",
   "execution_count": null,
   "id": "4d27a1a9",
   "metadata": {},
   "outputs": [],
   "source": [
    "i[\"nishanth\"]"
   ]
  },
  {
   "cell_type": "code",
   "execution_count": null,
   "id": "c8821bfc",
   "metadata": {},
   "outputs": [],
   "source": [
    "tamil={\"subbu\":[12,15,14,65],\"mathesh\":[15,17,19,65],\"nithish\":[13,15,15,64]}"
   ]
  },
  {
   "cell_type": "code",
   "execution_count": null,
   "id": "80be00ae",
   "metadata": {},
   "outputs": [],
   "source": [
    "tamil[\"subbu\"]"
   ]
  },
  {
   "cell_type": "code",
   "execution_count": null,
   "id": "50e325dc",
   "metadata": {},
   "outputs": [],
   "source": [
    "tamil[\"nithish\"]"
   ]
  },
  {
   "cell_type": "code",
   "execution_count": null,
   "id": "892663e5",
   "metadata": {},
   "outputs": [],
   "source": [
    "tamil[\"mathesh\"]"
   ]
  },
  {
   "cell_type": "code",
   "execution_count": null,
   "id": "966c6210",
   "metadata": {},
   "outputs": [],
   "source": [
    "i[\"hello\"]=52"
   ]
  },
  {
   "cell_type": "code",
   "execution_count": null,
   "id": "8940dacc",
   "metadata": {},
   "outputs": [],
   "source": [
    "i"
   ]
  },
  {
   "cell_type": "code",
   "execution_count": null,
   "id": "7bcf19f8",
   "metadata": {},
   "outputs": [],
   "source": [
    "tamil[\"saga\"]=[5,6,8,3]"
   ]
  },
  {
   "cell_type": "code",
   "execution_count": null,
   "id": "b5673770",
   "metadata": {},
   "outputs": [],
   "source": [
    "tamil"
   ]
  },
  {
   "cell_type": "code",
   "execution_count": null,
   "id": "2c35095a",
   "metadata": {},
   "outputs": [],
   "source": []
  }
 ],
 "metadata": {
  "kernelspec": {
   "display_name": "Python 3 (ipykernel)",
   "language": "python",
   "name": "python3"
  },
  "language_info": {
   "codemirror_mode": {
    "name": "ipython",
    "version": 3
   },
   "file_extension": ".py",
   "mimetype": "text/x-python",
   "name": "python",
   "nbconvert_exporter": "python",
   "pygments_lexer": "ipython3",
   "version": "3.12.3"
  },
  "vscode": {
   "interpreter": {
    "hash": "b09ec625f77bf4fd762565a912b97636504ad6ec901eb2d0f4cf5a7de23e1ee5"
   }
  }
 },
 "nbformat": 4,
 "nbformat_minor": 5
}
